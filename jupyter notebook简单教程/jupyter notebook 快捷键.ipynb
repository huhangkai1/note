{
 "cells": [
  {
   "cell_type": "markdown",
   "metadata": {},
   "source": [
    "## jupyter notebook 快捷键\n",
    " Jupyter Notebook 有两种键盘输入模式。编辑模式，允许你往单元中键入代码或文本；这时的单元框线是绿色的。命令模式，键盘输入运行程序命令；这时的单元框线是灰色。\n",
    "\n",
    "### 两种模式下的快捷键\n",
    "    Shift-Enter : 运行本单元，选中下个单元\n",
    "    Ctrl-Enter : 运行本单元\n",
    "    Alt-Enter : 运行本单元，在其下插入新单元\n",
    "    Ctrl-S : 文件存盘\n",
    "\n",
    "### 命令模式 (按键 Esc 开启，或者Ctrl-M 开启)\n",
    "    Y : 单元转入代码状态\n",
    "    M : 单元转入markdown状态\n",
    "    R : 单元转入raw状态\n",
    "    1 - 6 : 设定 1 - 6 级标题\n",
    "    Up / K : 选中上方单元\n",
    "    Down / J: 选中下方单元\n",
    "    Shift-K / Shift-J : 扩大选中上方/下方单元\n",
    "    A / B : 在上方插入新单元\n",
    "    X / C: 剪切/复制选中的单元\n",
    "    Shift-V / V: 粘贴到上方/下方单元\n",
    "    Z : 恢复删除的最后一个单元\n",
    "    D,D : 删除选中的单元\n",
    "    Shift-M : 合并选中的单元\n",
    "    S : 文件存盘\n",
    "    L : 转换行号\n",
    "    O : 转换输出\n",
    "    Shift-O : 转换输出滚动\n",
    "    H : 显示快捷键帮助\n",
    "    I,I : 中断Notebook内核\n",
    "    0,0 : 重启Notebook内核\n",
    "    Space : 向下滚动\n",
    "\n",
    "### 编辑模式 ( Enter 键启动)\n",
    "    Tab : 代码补全或缩进\n",
    "    Ctrl-] / Ctrl-[ : 缩进 / 解除缩进\n",
    "    Ctrl-A : 全选\n",
    "    Ctrl-Z : 复原\n",
    "    Ctrl-Home / Ctrl-Up : 跳到单元开头\n",
    "    Ctrl-End / Ctrl-Down : 跳到单元末尾\n",
    "    Ctrl-Left : 跳到左边一个字首\n",
    "    Ctrl-Right : 跳到右边一个字首\n",
    "    Ctrl-Backspace : 删除前面一个字\n",
    "    Ctrl-Delete : 删除后面一个字"
   ]
  }
 ],
 "metadata": {
  "kernelspec": {
   "display_name": "Python 3",
   "language": "python",
   "name": "python3"
  },
  "language_info": {
   "codemirror_mode": {
    "name": "ipython",
    "version": 3
   },
   "file_extension": ".py",
   "mimetype": "text/x-python",
   "name": "python",
   "nbconvert_exporter": "python",
   "pygments_lexer": "ipython3",
   "version": "3.7.0"
  }
 },
 "nbformat": 4,
 "nbformat_minor": 2
}
