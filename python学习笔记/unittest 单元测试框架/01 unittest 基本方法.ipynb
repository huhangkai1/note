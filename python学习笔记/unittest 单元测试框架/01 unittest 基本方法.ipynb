{
 "cells": [
  {
   "cell_type": "code",
   "execution_count": 6,
   "metadata": {},
   "outputs": [],
   "source": [
    "class TestMethod(unittest.TestCase):\n",
    "\n",
    "    @classmethod\n",
    "    def setUpClass(cls):\n",
    "        print(\"类执行之前的方法\")\n",
    "\n",
    "    @classmethod\n",
    "    def tearDownClass(cls):\n",
    "        print(\"类执行之后的方法\")\n",
    "\n",
    "    def setUp(self):\n",
    "        print(\"每次方法之前执行\")\n",
    "\n",
    "    def tearDown(self):\n",
    "        print(\"每次方法之后执行\")\n",
    "\n",
    "    def test_01(self):\n",
    "        print(\"第一个测试方法\")\n",
    "\n",
    "    def test_02(self):\n",
    "        print(\"第二个测试方法\")"
   ]
  }
 ],
 "metadata": {
  "kernelspec": {
   "display_name": "Python 3",
   "language": "python",
   "name": "python3"
  },
  "language_info": {
   "codemirror_mode": {
    "name": "ipython",
    "version": 3
   },
   "file_extension": ".py",
   "mimetype": "text/x-python",
   "name": "python",
   "nbconvert_exporter": "python",
   "pygments_lexer": "ipython3",
   "version": "3.7.0"
  }
 },
 "nbformat": 4,
 "nbformat_minor": 2
}
