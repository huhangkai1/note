{
 "cells": [
  {
   "cell_type": "markdown",
   "metadata": {},
   "source": [
    "# NumPy 从已有的数组创建数组 \n",
    "1. numpy.asarray\n",
    "2. numpy.frombuffer\n",
    "3. numpy.fromiter"
   ]
  },
  {
   "cell_type": "markdown",
   "metadata": {},
   "source": [
    "\n",
    "## numpy.asarray\n",
    "* numpy.asarray 类似 numpy.array，但 numpy.asarray 只有三个，比 numpy.array 少两个。\n",
    "* numpy.asarray(a, dtype = None, order = None)\n",
    "\n",
    "#### 参数说明：\n",
    "    a \t任意形式的输入参数，可以是，列表, 列表的元组, 元组, 元组的元组, 元组的列表，多维数组。\n",
    "    dtype \t数据类型，可选。\n",
    "    order \t可选，有\"C\"和\"F\"两个选项,分别代表，行优先和列优先，在计算机内存中的存储元素的顺序。\n",
    "\n",
    "## numpy.frombuffer\n",
    "* numpy.frombuffer 用于实现动态数组。\n",
    "* numpy.frombuffer 接受 buffer 输入参数，以流的形式读入转化成 ndarray 对象。\n",
    "* numpy.frombuffer(buffer, dtype = float, count = -1, offset = 0)\n",
    "\n",
    "#### 参数说明：\n",
    "    buffer \t可以是任意对象，会以流的形式读入。\n",
    "    dtype \t返回数组的数据类型，可选\n",
    "    count \t读取的数据数量，默认为-1，读取所有数据。\n",
    "    offset \t读取的起始位置，默认为0。\n",
    "\n",
    "## numpy.fromiter\n",
    "* numpy.fromiter 方法从可迭代对象中建立 ndarray 对象，返回一维数组。\n",
    "* numpy.fromiter(iterable, dtype, count=-1)\n",
    "\n",
    "#### 参数说明：\n",
    "    iterable \t可迭代对象\n",
    "    dtype \t返回数组的数据类型\n",
    "    count \t读取的数据数量，默认为-1，读取所有数据"
   ]
  },
  {
   "cell_type": "code",
   "execution_count": 11,
   "metadata": {},
   "outputs": [
    {
     "name": "stdout",
     "output_type": "stream",
     "text": [
      "[1 2 3]\n",
      "[1. 2. 3.]\n",
      "[(1, 2, 3) (4, 5)]\n"
     ]
    }
   ],
   "source": [
    "# numpy.asarray\n",
    "import numpy as np \n",
    "print(np.asarray([1,2,3]))\n",
    "print(np.asarray((1,2,3), dtype =  float))\n",
    "print(np.asarray([(1,2,3),(4,5)]))"
   ]
  },
  {
   "cell_type": "code",
   "execution_count": 16,
   "metadata": {},
   "outputs": [
    {
     "name": "stdout",
     "output_type": "stream",
     "text": [
      "[b'H' b'e' b'l' b'l' b'o' b' ' b'W' b'o' b'r' b'l' b'd']\n"
     ]
    }
   ],
   "source": [
    "# numpy.frombuffer\n",
    "print(np.frombuffer(b'Hello World',dtype =  'S1'))"
   ]
  },
  {
   "cell_type": "code",
   "execution_count": 18,
   "metadata": {},
   "outputs": [
    {
     "name": "stdout",
     "output_type": "stream",
     "text": [
      "[0. 1. 2. 3. 4.]\n"
     ]
    }
   ],
   "source": [
    "# numpy.fromiter\n",
    "print(np.fromiter(range(5), dtype=float))"
   ]
  }
 ],
 "metadata": {
  "kernelspec": {
   "display_name": "Python 3",
   "language": "python",
   "name": "python3"
  },
  "language_info": {
   "codemirror_mode": {
    "name": "ipython",
    "version": 3
   },
   "file_extension": ".py",
   "mimetype": "text/x-python",
   "name": "python",
   "nbconvert_exporter": "python",
   "pygments_lexer": "ipython3",
   "version": "3.7.0"
  }
 },
 "nbformat": 4,
 "nbformat_minor": 2
}
