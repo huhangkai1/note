{
 "cells": [
  {
   "cell_type": "markdown",
   "metadata": {},
   "source": [
    "#  NumPy 创建数组 \n",
    "ndarray 数组除了可以使用底层 ndarray 构造器来创建外，也可以通过以下几种方式来创建。\n",
    "* numpy.empty(shape, dtype = float, order = 'C')  # 创建未初始化的数组\n",
    "* numpy.zeros(shape, dtype = float, order = 'C')  # 创建默认值为0的数组\n",
    "* numpy.ones(shape, dtype = None, order = 'C')  # 创建默认值为1的数组\n",
    "* numpy.full(shape, default)  # 创建指定默认值的数组\n",
    "* numpy.random.randn(2,3)  # 创建标准正态分布数组\n",
    "* numpy.random.random(3,3)  # 创建标准正态分布数组\n",
    "* numpy.random.randint(100,200,(3,3)) # 随机分布整数型数组\n",
    "* numpy.arange(10) arange 创建数组\n",
    "* numpy.eye(5)  # 对角矩阵数组\n",
    "\n",
    "#### 参数说明：\n",
    "    参数 \t描述\n",
    "    shape \t数组形状\n",
    "    dtype \t数据类型，可选\n",
    "    order \t'C' 用于 C 的行数组，或者 'F' 用于 FORTRAN 的列数组\n",
    "    default 默认值"
   ]
  },
  {
   "cell_type": "code",
   "execution_count": 3,
   "metadata": {},
   "outputs": [
    {
     "name": "stdout",
     "output_type": "stream",
     "text": [
      "[[-462288248       2046]\n",
      " [-462222656       2046]\n",
      " [         0          0]]\n"
     ]
    }
   ],
   "source": [
    "# numpy.empty(shape, dtype = float, order = 'C')\n",
    "# numpy.empty 方法用来创建一个指定形状（shape）、数据类型（dtype）且未初始化的数组：\n",
    "import numpy as np \n",
    "x = np.empty([3,2], dtype = int) \n",
    "print (x)"
   ]
  },
  {
   "cell_type": "code",
   "execution_count": 5,
   "metadata": {},
   "outputs": [
    {
     "name": "stdout",
     "output_type": "stream",
     "text": [
      "[0. 0. 0. 0. 0.]\n",
      "[0 0 0 0 0]\n",
      "[[(0, 0) (0, 0)]\n",
      " [(0, 0) (0, 0)]]\n"
     ]
    }
   ],
   "source": [
    "import numpy as np \n",
    "# numpy.zeros(shape, dtype = float, order = 'C')\n",
    "# 创建指定大小的数组，数组元素以 0 来填充：\n",
    "# 默认为浮点数\n",
    "x = np.zeros(5) \n",
    "print(x)\n",
    " \n",
    "# 设置类型为整数\n",
    "y = np.zeros(5, dtype = np.int) \n",
    "print(y)\n",
    " \n",
    "# 自定义类型\n",
    "z = np.zeros((2,2), dtype = [('x', 'i'), ('y', 'i')])  \n",
    "print(z)"
   ]
  },
  {
   "cell_type": "code",
   "execution_count": 6,
   "metadata": {},
   "outputs": [
    {
     "name": "stdout",
     "output_type": "stream",
     "text": [
      "[1. 1. 1. 1. 1.]\n",
      "[[1 1]\n",
      " [1 1]]\n"
     ]
    }
   ],
   "source": [
    "# numpy.ones(shape, dtype = None, order = 'C')\n",
    "# 创建指定形状的数组，数组元素以 1 来填充：\n",
    "# 默认为浮点数\n",
    "x = np.ones(5) \n",
    "print(x)\n",
    " \n",
    "# 自定义类型\n",
    "x = np.ones([2,2], dtype = int)\n",
    "print(x)"
   ]
  },
  {
   "cell_type": "code",
   "execution_count": 11,
   "metadata": {},
   "outputs": [
    {
     "name": "stdout",
     "output_type": "stream",
     "text": [
      "[8. 8. 8. 8. 8.]\n",
      "[[3 3]\n",
      " [3 3]]\n"
     ]
    }
   ],
   "source": [
    "x = np.full(5,8.0) \n",
    "print(x)\n",
    "x = np.full([2,2],3)\n",
    "print(x)"
   ]
  },
  {
   "cell_type": "code",
   "execution_count": 5,
   "metadata": {},
   "outputs": [
    {
     "name": "stdout",
     "output_type": "stream",
     "text": [
      "[[-0.13265926  0.499265    0.74583201]\n",
      " [-0.6310869  -1.3865347   1.49535853]] \n",
      "\n",
      "[[0.59488636 0.34261218 0.43854369 0.50430003]\n",
      " [0.4826353  0.51812576 0.48371322 0.77756573]\n",
      " [0.07049681 0.74367747 0.91530077 0.3199734 ]] \n",
      "\n",
      "[[106 160 127]\n",
      " [115 163 183]\n",
      " [143 140 153]] \n",
      "\n",
      "[10 12 14 16 18] \n",
      "\n",
      "[[1. 0. 0. 0. 0.]\n",
      " [0. 1. 0. 0. 0.]\n",
      " [0. 0. 1. 0. 0.]\n",
      " [0. 0. 0. 1. 0.]\n",
      " [0. 0. 0. 0. 1.]]\n"
     ]
    }
   ],
   "source": [
    "import numpy as np \n",
    "print(np.random.randn(2,3),'\\n')\n",
    "print(np.random.random((3,4)),'\\n')\n",
    "print(np.random.randint(100,200,(3,3)),'\\n')\n",
    "print(np.arange(10, 20, 2),'\\n')\n",
    "print(np.eye(5))"
   ]
  }
 ],
 "metadata": {
  "kernelspec": {
   "display_name": "Python 3",
   "language": "python",
   "name": "python3"
  },
  "language_info": {
   "codemirror_mode": {
    "name": "ipython",
    "version": 3
   },
   "file_extension": ".py",
   "mimetype": "text/x-python",
   "name": "python",
   "nbconvert_exporter": "python",
   "pygments_lexer": "ipython3",
   "version": "3.7.0"
  }
 },
 "nbformat": 4,
 "nbformat_minor": 2
}
