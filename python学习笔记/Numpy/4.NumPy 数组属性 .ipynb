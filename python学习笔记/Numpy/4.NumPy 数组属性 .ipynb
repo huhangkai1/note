{
 "cells": [
  {
   "cell_type": "markdown",
   "metadata": {},
   "source": [
    "# NumPy 数组属性\n",
    "    属性 \t说明\n",
    "    ndarray.ndim \t秩，即轴的数量或维度的数量\n",
    "    ndarray.shape \t数组的维度，对于矩阵，n 行 m 列\n",
    "    ndarray.size \t数组元素的总个数，相当于 .shape 中 n*m 的值\n",
    "    ndarray.dtype \tndarray 对象的元素类型\n",
    "    ndarray.itemsize \tndarray 对象中每个元素的大小，以字节为单位\n",
    "    ndarray.flags \tndarray 对象的内存信息\n",
    "    ndarray.real \tndarray元素的实部\n",
    "    ndarray.imag \tndarray 元素的虚部\n",
    "    ndarray.data \t包含实际数组元素的缓冲区，由于一般通过数组的索引获取元素，所以通常不需要使用这个属性。"
   ]
  },
  {
   "cell_type": "code",
   "execution_count": 1,
   "metadata": {},
   "outputs": [
    {
     "name": "stdout",
     "output_type": "stream",
     "text": [
      "1\n",
      "3\n"
     ]
    }
   ],
   "source": [
    "# ndarray.ndim 用于返回数组的维数，等于秩。\n",
    "import numpy as np \n",
    "a = np.arange(24)  \n",
    "print (a.ndim)             # a 现只有一个维度\n",
    "# 现在调整其大小\n",
    "b = a.reshape(2,4,3)  # b 现在拥有三个维度\n",
    "print (b.ndim)"
   ]
  },
  {
   "cell_type": "code",
   "execution_count": 6,
   "metadata": {},
   "outputs": [
    {
     "name": "stdout",
     "output_type": "stream",
     "text": [
      "(2, 3)\n",
      "[[1 2]\n",
      " [3 4]\n",
      " [5 6]]\n"
     ]
    }
   ],
   "source": [
    "# ndarray.shape 表示数组的维\n",
    "# ndarray.shape 也可以用于调整数组大小。\n",
    "a = np.array([[1,2,3],[4,5,6]])\n",
    "print (a.shape)\n",
    "a.shape = (3,2)\n",
    "print (a)"
   ]
  },
  {
   "cell_type": "code",
   "execution_count": 10,
   "metadata": {},
   "outputs": [
    {
     "name": "stdout",
     "output_type": "stream",
     "text": [
      "1\n",
      "8\n"
     ]
    }
   ],
   "source": [
    "# ndarray.itemsize 以字节的形式返回数组中每一个元素的大小。\n",
    "# 例如，一个元素类型为 float64 的数组 itemsiz 属性值为 8(float64 占用 64 个 bits，每个字节长度为 8，所以 64/8，占用 8 个字节），\n",
    "# 又如，一个元素类型为 complex32 的数组 item 属性为 4（32/8）。\n",
    "\n",
    "# 数组的 dtype 为 int8（一个字节）  \n",
    "x = np.array([1,2,3,4,5], dtype = np.int8)  \n",
    "print (x.itemsize)\n",
    "\n",
    "# 数组的 dtype 现在为 float64（八个字节） \n",
    "y = np.array([1,2,3,4,5], dtype = np.float64)  \n",
    "print (y.itemsize)"
   ]
  },
  {
   "cell_type": "code",
   "execution_count": 11,
   "metadata": {},
   "outputs": [
    {
     "name": "stdout",
     "output_type": "stream",
     "text": [
      "  C_CONTIGUOUS : True\n",
      "  F_CONTIGUOUS : True\n",
      "  OWNDATA : True\n",
      "  WRITEABLE : True\n",
      "  ALIGNED : True\n",
      "  WRITEBACKIFCOPY : False\n",
      "  UPDATEIFCOPY : False\n"
     ]
    }
   ],
   "source": [
    "# ndarray.flags 返回 ndarray 对象的内存信息，包含以下属性：\n",
    "    # C_CONTIGUOUS (C) \t数据是在一个单一的C风格的连续段中\n",
    "    # F_CONTIGUOUS (F) \t数据是在一个单一的Fortran风格的连续段中\n",
    "    # OWNDATA (O) \t数组拥有它所使用的内存或从另一个对象中借用它\n",
    "    # WRITEABLE (W) \t数据区域可以被写入，将该值设置为 False，则数据为只读\n",
    "    # ALIGNED (A) \t数据和所有元素都适当地对齐到硬件上\n",
    "    # UPDATEIFCOPY (U) \t这个数组是其它数组的一个副本，当这个数组被释放时，原数组的内容将被更新\n",
    "x = np.array([1,2,3,4,5])  \n",
    "print (x.flags)"
   ]
  }
 ],
 "metadata": {
  "kernelspec": {
   "display_name": "Python 3",
   "language": "python",
   "name": "python3"
  },
  "language_info": {
   "codemirror_mode": {
    "name": "ipython",
    "version": 3
   },
   "file_extension": ".py",
   "mimetype": "text/x-python",
   "name": "python",
   "nbconvert_exporter": "python",
   "pygments_lexer": "ipython3",
   "version": "3.7.0"
  }
 },
 "nbformat": 4,
 "nbformat_minor": 2
}
