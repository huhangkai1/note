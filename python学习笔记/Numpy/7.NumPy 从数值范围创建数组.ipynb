{
 "cells": [
  {
   "cell_type": "markdown",
   "metadata": {},
   "source": [
    "# NumPy 从数值范围创建数组\n",
    "根据 start 与 stop 指定的范围以及 step 设定的步长，生成一个 ndarray。\n",
    "* numpy.arange(start, stop, step, dtype)\n",
    "\n",
    "numpy.linspace 函数用于创建一个一维数组，数组是一个等差数列构成的，格式如下：\n",
    "* numpy.linspace(start, stop, num=50, endpoint=True, retstep=False, dtype=None)\n",
    "\n",
    "numpy.logspace 函数用于创建一个于等比数列。格式如下：\n",
    "* numpy.logspace(start, stop, num=50, endpoint=True, base=10.0, dtype=None)"
   ]
  },
  {
   "cell_type": "code",
   "execution_count": 5,
   "metadata": {},
   "outputs": [
    {
     "name": "stdout",
     "output_type": "stream",
     "text": [
      "[0 1 2 3 4]\n",
      "[0. 1. 2. 3. 4.]\n",
      "[10. 12. 14. 16. 18.]\n"
     ]
    }
   ],
   "source": [
    "# numpy.arange(start, stop, step, dtype)\n",
    "import numpy as np\n",
    "print (np.arange(5))\n",
    "print (np.arange(5, dtype =  float))\n",
    "print (np.arange(10,20,2, dtype =  float))"
   ]
  },
  {
   "cell_type": "code",
   "execution_count": 19,
   "metadata": {},
   "outputs": [
    {
     "name": "stdout",
     "output_type": "stream",
     "text": [
      "[10.         11.11111111 12.22222222 13.33333333 14.44444444 15.55555556\n",
      " 16.66666667 17.77777778 18.88888889 20.        ]\n",
      "[10 11 12 13 14 15 16 17 18 20]\n",
      "[10. 11. 12. 13. 14. 15. 16. 17. 18. 19.]\n",
      "(array([10.        , 11.11111111, 12.22222222, 13.33333333, 14.44444444,\n",
      "       15.55555556, 16.66666667, 17.77777778, 18.88888889, 20.        ]), 1.1111111111111112)\n",
      "[[10. 11.]\n",
      " [12. 13.]\n",
      " [14. 15.]\n",
      " [16. 17.]\n",
      " [18. 19.]]\n"
     ]
    }
   ],
   "source": [
    "# numpy.linspace(start, stop, num=50, endpoint=True, retstep=False, dtype=None)\n",
    "print (np.linspace(10,20,10))\n",
    "print (np.linspace(10,20,10, dtype =  int))\n",
    "# 将 endpoint 设为 false，不包含终止值\n",
    "print (np.linspace(10,20,10, endpoint =  False))\n",
    "print (np.linspace(10,20,10, retstep= True)) # 显示间距\n",
    "print (np.linspace(10,20,10, endpoint =  False).reshape([-1,2]))"
   ]
  },
  {
   "cell_type": "code",
   "execution_count": 22,
   "metadata": {},
   "outputs": [
    {
     "name": "stdout",
     "output_type": "stream",
     "text": [
      "[ 10.          17.7827941   31.6227766   56.23413252 100.        ]\n",
      "[10.         15.84893192 25.11886432 39.81071706 63.09573445]\n",
      "[ 2.  4.  8. 16. 32.]\n"
     ]
    }
   ],
   "source": [
    "# np.logspace(start, stop, num=50, endpoint=True, base=10.0, dtype=None)\n",
    "# 默认底数是 10\n",
    "print (np.logspace(1.0,2.0,num=5))\n",
    "print (np.logspace(1.0,2.0,num=5,endpoint=False))\n",
    "print (np.logspace(1.0,5.0,num=5,base=2))"
   ]
  }
 ],
 "metadata": {
  "kernelspec": {
   "display_name": "Python 3",
   "language": "python",
   "name": "python3"
  },
  "language_info": {
   "codemirror_mode": {
    "name": "ipython",
    "version": 3
   },
   "file_extension": ".py",
   "mimetype": "text/x-python",
   "name": "python",
   "nbconvert_exporter": "python",
   "pygments_lexer": "ipython3",
   "version": "3.7.0"
  }
 },
 "nbformat": 4,
 "nbformat_minor": 2
}
