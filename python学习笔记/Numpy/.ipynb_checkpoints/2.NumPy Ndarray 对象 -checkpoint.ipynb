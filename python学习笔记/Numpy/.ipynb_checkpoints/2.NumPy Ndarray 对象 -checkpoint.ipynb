{
 "cells": [
  {
   "cell_type": "markdown",
   "metadata": {},
   "source": [
    "#### 创建一个 ndarray 只需调用 NumPy 的 array 函数即可\n",
    "numpy.array(object, dtype = None, copy = True, order = None, subok = False, ndmin = 0)\n",
    "##### 参数说明："
   ]
  },
  {
   "cell_type": "code",
   "execution_count": 2,
   "metadata": {
    "scrolled": true
   },
   "outputs": [
    {
     "name": "stdout",
     "output_type": "stream",
     "text": [
      "a= [1 2 3]\n",
      "b= [[1 2]\n",
      " [3 4]]\n"
     ]
    }
   ],
   "source": [
    "# object ：数组或嵌套的数列\n",
    "import numpy as np \n",
    "a = np.array([1,2,3])\n",
    "print('a=', a)\n",
    "b = np.array([[1,  2],  [3,  4]])  \n",
    "print ('b=', b)"
   ]
  },
  {
   "cell_type": "code",
   "execution_count": 2,
   "metadata": {},
   "outputs": [
    {
     "name": "stdout",
     "output_type": "stream",
     "text": [
      "[1.+0.j 2.+0.j 3.+0.j]\n"
     ]
    }
   ],
   "source": [
    "# dtype ：数组元素的数据类型，可选\n",
    "a = np.array([1,  2,  3], dtype = complex)  \n",
    "print (a) "
   ]
  },
  {
   "cell_type": "code",
   "execution_count": 3,
   "metadata": {},
   "outputs": [],
   "source": [
    "# copy ：对象是否需要复制，可选"
   ]
  },
  {
   "cell_type": "code",
   "execution_count": 7,
   "metadata": {},
   "outputs": [
    {
     "name": "stdout",
     "output_type": "stream",
     "text": [
      "a= [1 2 3]\n",
      "b= [1 2 3]\n"
     ]
    },
    {
     "data": {
      "text/plain": [
       "(3,)"
      ]
     },
     "execution_count": 7,
     "metadata": {},
     "output_type": "execute_result"
    }
   ],
   "source": [
    "# order ：创建数组的样式，C为行方向，F为列方向，A为任意方向（默认）\n",
    "import numpy as np \n",
    "a = np.array([1,2,3], order='C')\n",
    "print('a=', a)\n",
    "# a.shape\n",
    "b = np.array([1,2,3], order='F')\n",
    "print ('b=', b)\n",
    "b.shape"
   ]
  },
  {
   "cell_type": "code",
   "execution_count": 5,
   "metadata": {},
   "outputs": [],
   "source": [
    "# subok ：默认返回一个与基类类型一致的数组"
   ]
  },
  {
   "cell_type": "code",
   "execution_count": 7,
   "metadata": {},
   "outputs": [
    {
     "name": "stdout",
     "output_type": "stream",
     "text": [
      "a= [1 2 3]\n",
      "b= [[1 2 3]]\n",
      "c= [[[1 2 3]]]\n"
     ]
    }
   ],
   "source": [
    "# ndmin ：指定生成数组的最小维度\n",
    "a = np.array([1,2,3], ndmin=1)\n",
    "print('a=', a)\n",
    "b = np.array([1,2,3], ndmin=2)\n",
    "print('b=', b)\n",
    "c = np.array([1,2,3], ndmin=3)\n",
    "print('c=', c)"
   ]
  }
 ],
 "metadata": {
  "kernelspec": {
   "display_name": "Python 3",
   "language": "python",
   "name": "python3"
  },
  "language_info": {
   "codemirror_mode": {
    "name": "ipython",
    "version": 3
   },
   "file_extension": ".py",
   "mimetype": "text/x-python",
   "name": "python",
   "nbconvert_exporter": "python",
   "pygments_lexer": "ipython3",
   "version": "3.7.0"
  }
 },
 "nbformat": 4,
 "nbformat_minor": 2
}
