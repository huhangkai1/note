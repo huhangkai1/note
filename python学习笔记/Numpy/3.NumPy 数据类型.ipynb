{
 "cells": [
  {
   "cell_type": "markdown",
   "metadata": {},
   "source": [
    "# NumPy 数据类型\n",
    "    名称 \t描述\n",
    "    bool_ \t布尔型数据类型（True 或者 False）\n",
    "    int_ \t默认的整数类型（类似于 C 语言中的 long，int32 或 int64）\n",
    "    intc \t与 C 的 int 类型一样，一般是 int32 或 int 64\n",
    "    intp \t用于索引的整数类型（类似于 C 的 ssize_t，一般情况下仍然是 int32 或 int64）\n",
    "    int8 \t字节（-128 to 127）\n",
    "    int16 \t整数（-32768 to 32767）\n",
    "    int32 \t整数（-2147483648 to 2147483647）\n",
    "    int64 \t整数（-9223372036854775808 to 9223372036854775807）\n",
    "    uint8 \t无符号整数（0 to 255）\n",
    "    uint16 \t无符号整数（0 to 65535）\n",
    "    uint32 \t无符号整数（0 to 4294967295）\n",
    "    uint64 \t无符号整数（0 to 18446744073709551615）\n",
    "    float_ \tfloat64 类型的简写\n",
    "    float16 \t半精度浮点数，包括：1 个符号位，5 个指数位，10 个尾数位\n",
    "    float32 \t单精度浮点数，包括：1 个符号位，8 个指数位，23 个尾数位\n",
    "    float64 \t双精度浮点数，包括：1 个符号位，11 个指数位，52 个尾数位\n",
    "    complex_ \tcomplex128 类型的简写，即 128 位复数\n",
    "    complex64 \t复数，表示双 32 位浮点数（实数部分和虚数部分）\n",
    "    complex128 \t复数，表示双 64 位浮点数（实数部分和虚数部分）"
   ]
  },
  {
   "cell_type": "markdown",
   "metadata": {},
   "source": [
    "### 数据类型对象 (dtype)\n",
    "#### numpy.dtype(object, align, copy)\n",
    "* object - 要转换为的数据类型对象\n",
    "* align - 如果为 true，填充字段使其类似 C 的结构体。\n",
    "* copy - 复制 dtype 对象 ，如果为 false，则是对内置数据类型对象的引用"
   ]
  },
  {
   "cell_type": "code",
   "execution_count": 3,
   "metadata": {},
   "outputs": [
    {
     "name": "stdout",
     "output_type": "stream",
     "text": [
      "int32\n"
     ]
    }
   ],
   "source": [
    "import numpy as np\n",
    "# 使用标量类型\n",
    "dt = np.dtype(np.int32)\n",
    "print(dt)"
   ]
  },
  {
   "cell_type": "code",
   "execution_count": 4,
   "metadata": {},
   "outputs": [
    {
     "name": "stdout",
     "output_type": "stream",
     "text": [
      "int32\n"
     ]
    }
   ],
   "source": [
    "import numpy as np\n",
    "# int8, int16, int32, int64 四种数据类型可以使用字符串 'i1', 'i2','i4','i8' 代替\n",
    "dt = np.dtype('i4')\n",
    "print(dt)"
   ]
  },
  {
   "cell_type": "code",
   "execution_count": 11,
   "metadata": {},
   "outputs": [
    {
     "name": "stdout",
     "output_type": "stream",
     "text": [
      "[('name', 'S20'), ('age', 'i1'), ('marks', '<f4')]\n",
      "[b'abc' b'xyz']\n"
     ]
    }
   ],
   "source": [
    "# 创建结构化数据类型\n",
    "import numpy as np\n",
    "student = np.dtype([('name','S20'), ('age', 'i1'), ('marks', 'f4')]) \n",
    "print(student)\n",
    "a = np.array([('abc', 21, 50),('xyz', 18, 75)], dtype = student)\n",
    "print(a['name'])"
   ]
  },
  {
   "cell_type": "markdown",
   "metadata": {},
   "source": [
    "### 每个内建类型都有一个唯一定义它的字符代码，如下：\n",
    "    b\t布尔型\n",
    "    i\t(有符号) 整型\n",
    "    u \t无符号整型 integer\n",
    "    f\t浮点型\n",
    "    c \t复数浮点型\n",
    "    m \ttimedelta（时间间隔）\n",
    "    M \tdatetime（日期时间）\n",
    "    O \t(Python) 对象\n",
    "    S, a \t(byte-)字符串\n",
    "    U\tUnicode\n",
    "    V \t原始数据 (void)"
   ]
  }
 ],
 "metadata": {
  "kernelspec": {
   "display_name": "Python 3",
   "language": "python",
   "name": "python3"
  },
  "language_info": {
   "codemirror_mode": {
    "name": "ipython",
    "version": 3
   },
   "file_extension": ".py",
   "mimetype": "text/x-python",
   "name": "python",
   "nbconvert_exporter": "python",
   "pygments_lexer": "ipython3",
   "version": "3.7.0"
  }
 },
 "nbformat": 4,
 "nbformat_minor": 2
}
