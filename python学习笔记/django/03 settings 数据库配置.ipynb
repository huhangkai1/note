{
 "cells": [
  {
   "cell_type": "markdown",
   "metadata": {},
   "source": [
    "# 1. 配置settings\n",
    "    import sys\n",
    "    sys.path.insert(0, os.path.join(BASE_DIR, 'apps'))\n",
    "    sys.path.insert(0, os.path.join(BASE_DIR, 'extra_apps'))\n",
    "    \n",
    "    LANGUAGE_CODE = 'zh-hans'\n",
    "\n",
    "    TIME_ZONE = 'Asia/Shanghai'\n",
    "\n",
    "    USE_TZ = False\n",
    "\n",
    "    STATIC_URL = '/static/'\n",
    "    STATICFILES_DIRS = (\n",
    "        os.path.join(BASE_DIR, \"static\"),\n",
    "    )\n",
    "\n",
    "    MEDIA_URL = '/media/'\n",
    "    MEDIA_ROOT = os.path.join(BASE_DIR, 'media')\n",
    "\n",
    "# 2. settings 数据库配置\n",
    "    1. 数据库配置 DATABASES\n",
    "    DATABASES = {\n",
    "        'default': {\n",
    "            'ENGINE': 'django.db.backends.mysql',\n",
    "            'HOST': \"127.0.0.1\"\n",
    "            'PORT': '3306',\n",
    "            'NAME': \"mxonline\",\n",
    "            'USER': 'huhangkai',\n",
    "            'PASSWORD': \"12345678\",\n",
    "            'OPTIONS': {\n",
    "                'init_command': \"SET sql_mode='STRICT_TRANS_TABLES'\",\n",
    "                },\n",
    "        }\n",
    "    }\n",
    "    驱动（ENGINE）、主机地址（HOST）、端口号（PORT）、数据库（NAME）、用户名（NAME）以及登录密码（PASSWORD）；\n",
    "    2. 启动报错Error loading MySQLdb module. 需要安装MyQL驱动\n",
    "        进入虚拟环境安装 pip install mysqlclient\n",
    "    3. 生成默认数据表，Run manage.py Trace...输入命令\n",
    "        makemigrations\n",
    "        migrate\n",
    "        runserver  #是否正常启动"
   ]
  }
 ],
 "metadata": {
  "kernelspec": {
   "display_name": "Python 3",
   "language": "python",
   "name": "python3"
  },
  "language_info": {
   "codemirror_mode": {
    "name": "ipython",
    "version": 3
   },
   "file_extension": ".py",
   "mimetype": "text/x-python",
   "name": "python",
   "nbconvert_exporter": "python",
   "pygments_lexer": "ipython3",
   "version": "3.7.0"
  }
 },
 "nbformat": 4,
 "nbformat_minor": 2
}
