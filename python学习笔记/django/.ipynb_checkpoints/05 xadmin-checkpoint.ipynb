{
 "cells": [
  {
   "cell_type": "markdown",
   "metadata": {},
   "source": [
    "# admin\n",
    "## 1. 创建创建用户\n",
    "    命令 createsuperuser \n",
    "    输入用户名，邮箱，密码创建\n",
    "## 2. 中文显示\n",
    "    修改工程settings.py文件\n",
    "    LANGUAGE_CODE = 'zh-hans'\n",
    "    TIME_ZONE = 'Asia/Shanghai'\n",
    "    USE_TZ = False\n",
    "## 3. 注册表信息\n",
    "    app的admin.py文件中加入注册表\n",
    "    from .models import UserProfile\n",
    "    class UserProfileAdmin(admin.ModelAdmin):\n",
    "        pass\n",
    "    admin.site.register(UserProfile, UserProfileAdmin)\n",
    "# xadmin\n",
    "## 1. 安装\n",
    "    pip install xadmin\n",
    "    【python】-- 安装 xadmin错误：\"UnicodeDecodeError: 'gbk' codec can't decode byte 0xa4 in position 3444\"\n",
    "    1. 下载 zip 安装包 https://github.com/sshwsfc/xadmin\n",
    "    2. 新建空白文件README.rst 压缩进 zip 中替换掉同名文件\n",
    "    3. 使用管理员命令行界面进行安装 pip install xadmin-master.zip\n",
    "## 2. 配置\n",
    "    settings.py添加app\n",
    "        'xadmin',\n",
    "        'crispy_forms',\n",
    "    urls.py修改\n",
    "        import xadmin\n",
    "        path('xadmin/', xadmin.site.urls),\n",
    "## 3. django 2.2 的xadmin各种报错解决\n",
    "    https://www.cnblogs.com/xingfuggz/p/10142388.html\n",
    "## 4. 同步xadmin表\n",
    "    makemigrations\n",
    "    migrate\n",
    "    runserver"
   ]
  }
 ],
 "metadata": {
  "kernelspec": {
   "display_name": "Python 3",
   "language": "python",
   "name": "python3"
  },
  "language_info": {
   "codemirror_mode": {
    "name": "ipython",
    "version": 3
   },
   "file_extension": ".py",
   "mimetype": "text/x-python",
   "name": "python",
   "nbconvert_exporter": "python",
   "pygments_lexer": "ipython3",
   "version": "3.7.0"
  }
 },
 "nbformat": 4,
 "nbformat_minor": 2
}
