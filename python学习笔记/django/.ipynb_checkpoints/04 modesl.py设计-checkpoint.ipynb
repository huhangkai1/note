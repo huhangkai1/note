{
 "cells": [
  {
   "cell_type": "markdown",
   "metadata": {},
   "source": [
    "# modesl.py设计\n",
    "## 1. 框架\n",
    "    class UsersTest(models.Model):\n",
    "        name = models.CharField(max_length=20, verbose_name=u\"城市\")\n",
    "        add_time = models.DateTimeField(default=datetime.now)\n",
    "\n",
    "       class Meta:\n",
    "            verbose_name = u\"城市\"\n",
    "            verbose_name_plural = verbose_name\n",
    "\n",
    "       def __str__(self):\n",
    "            return self.name\n",
    "\n",
    "       def get_teacher_nums(self):\n",
    "            #获取关联表数据数量数量\n",
    "            return self.teacher_set.all().count()\n",
    "## 2.属性有\n",
    "    models.CharField(max_length=6, choices=((\"male\",u\"男\"),(\"female\",\"女\")), default=\"female\", verbose_name=u\"性别\")\n",
    "    models.DateField(verbose_name=u\"生日\", null=True, blank=True)\n",
    "    models.DateTimeField(verbose_name=u\"发送时间\", default=datetime.now)\n",
    "    models.ImageField(upload_to=\"image/%Y/%m\",default=u\"image/default.png\", max_length=100, verbose_name=u\"图片\")\n",
    "    models.EmailField(max_length=50, verbose_name=u\"邮箱\")\n",
    "    models.URLField(max_length=200, verbose_name=u\"访问地址\")\n",
    "    models.IntegerField(default=100, verbose_name=u\"顺序\")\n",
    "    models.TextField(verbose_name=u\"长文本\")\n",
    "    UEditorField(verbose_name=u\"描述富文本框\",width=900, height=300, imagePath=\"org/ueditor/\", filePath=\"org/ueditor/\", default='')\n",
    "    models.ForeignKey(CityDict, on_delete=models.CASCADE, verbose_name=u\"外键\")\n",
    "    models.BooleanField(default=False, verbose_name=u\"是否已读\")\n",
    "    models.FileField(upload_to=\"course/resource/%Y/%m\", verbose_name=u\"资源文件\", max_length=100)\n",
    "    \n",
    "    "
   ]
  },
  {
   "cell_type": "code",
   "execution_count": null,
   "metadata": {},
   "outputs": [],
   "source": []
  }
 ],
 "metadata": {
  "kernelspec": {
   "display_name": "Python 3",
   "language": "python",
   "name": "python3"
  },
  "language_info": {
   "codemirror_mode": {
    "name": "ipython",
    "version": 3
   },
   "file_extension": ".py",
   "mimetype": "text/x-python",
   "name": "python",
   "nbconvert_exporter": "python",
   "pygments_lexer": "ipython3",
   "version": "3.7.0"
  }
 },
 "nbformat": 4,
 "nbformat_minor": 2
}
