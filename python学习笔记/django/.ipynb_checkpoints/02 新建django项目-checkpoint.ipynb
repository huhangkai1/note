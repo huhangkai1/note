{
 "cells": [
  {
   "cell_type": "markdown",
   "metadata": {},
   "source": [
    "# 新建django项目\n",
    "    1. 创建python虚拟环境，并进入\n",
    "        mkvirtualenv venv\n",
    "        workon venv\n",
    "    2. 安装django\n",
    "        pip install django\n",
    "    3. 在Pycharm上新建项目选择虚拟环境\n",
    "        File -> New Project -> Django -> Location:项目目录 / Interpreter:虚拟环境路径\\Scripts\\python.exe\n",
    "    4. 新建app\n",
    "        Tools -> Run manage.py Trace...\n",
    "            输入命令 startapp users\n",
    "    5. 新建文件夹\n",
    "        static 存放 css js等静态文件\n",
    "        log 存放日志文件\n",
    "        media 存放用户上传文件\n",
    "        apps 存放各个app，把创建的users拖入apps文件夹下\n",
    "        extra_apps 存放第三方包源码\n",
    "        image 存放图片\n",
    "    6. apps文件夹 Mark下，可以在直接from\n",
    "        apps文件夹右键 -> Mark Directory As -> Sources Root\n",
    "    7. settings 添加\n",
    "        INSTALLED_APPS 添加\"users\",\n",
    "        添加 AUTH_USER_MODEL = \"users.UserProfile\""
   ]
  }
 ],
 "metadata": {
  "kernelspec": {
   "display_name": "Python 3",
   "language": "python",
   "name": "python3"
  },
  "language_info": {
   "codemirror_mode": {
    "name": "ipython",
    "version": 3
   },
   "file_extension": ".py",
   "mimetype": "text/x-python",
   "name": "python",
   "nbconvert_exporter": "python",
   "pygments_lexer": "ipython3",
   "version": "3.7.0"
  }
 },
 "nbformat": 4,
 "nbformat_minor": 2
}
