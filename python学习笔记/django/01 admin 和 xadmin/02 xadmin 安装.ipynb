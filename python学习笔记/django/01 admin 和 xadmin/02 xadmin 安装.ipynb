{
 "cells": [
  {
   "cell_type": "markdown",
   "metadata": {},
   "source": [
    "# xadmin\n",
    "## 1. 安装\n",
    "    pip install xadmin\n",
    "    【python】-- 安装 xadmin错误：\"UnicodeDecodeError: 'gbk' codec can't decode byte 0xa4 in position 3444\"\n",
    "    1. 下载 zip 安装包 https://github.com/sshwsfc/xadmin\n",
    "    2. 新建空白文件README.rst 压缩进 zip 中替换掉同名文件\n",
    "    3. 使用管理员命令行界面进行安装 pip install xadmin-master.zip\n",
    "## 2. 配置\n",
    "    settings.py添加app\n",
    "        'xadmin',\n",
    "        'crispy_forms',\n",
    "    urls.py修改\n",
    "        import xadmin\n",
    "        path('xadmin/', xadmin.site.urls),\n",
    "## 3. django 2.2 的xadmin各种报错解决\n",
    "    https://www.cnblogs.com/xingfuggz/p/10142388.html\n",
    "## 4. 同步xadmin表\n",
    "    makemigrations\n",
    "    migrate\n",
    "    runserver"
   ]
  }
 ],
 "metadata": {
  "kernelspec": {
   "display_name": "Python 3",
   "language": "python",
   "name": "python3"
  },
  "language_info": {
   "codemirror_mode": {
    "name": "ipython",
    "version": 3
   },
   "file_extension": ".py",
   "mimetype": "text/x-python",
   "name": "python",
   "nbconvert_exporter": "python",
   "pygments_lexer": "ipython3",
   "version": "3.7.0"
  }
 },
 "nbformat": 4,
 "nbformat_minor": 2
}
