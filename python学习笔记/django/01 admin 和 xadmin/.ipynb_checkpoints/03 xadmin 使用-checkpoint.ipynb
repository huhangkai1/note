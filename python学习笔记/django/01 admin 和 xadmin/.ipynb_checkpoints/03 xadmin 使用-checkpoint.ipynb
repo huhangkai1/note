{
 "cells": [
  {
   "cell_type": "markdown",
   "metadata": {},
   "source": [
    "# xadmin注册\n",
    "    1. 创建超级用户 createsuperuser\n",
    "       \n",
    "    2.app下新建adminx.py文件\n",
    "    from .models import XXXXXX, XXXXXX\n",
    "    \n",
    "    @xadmin.sites.register(XXXXXX)\n",
    "    class XXXXXAdmin(object):\n",
    "        list_display = (xxx, xxx) # 显示\n",
    "        search_fields = (xxx, xxx)  # 搜索\n",
    "        list_filter = (xxx, xxx) # 过滤器\n",
    "    # tuple(re.findall(\"\\w+\", XXXXXX.__doc__)[2:])  可以得到类属性元组\n",
    "    "
   ]
  }
 ],
 "metadata": {
  "kernelspec": {
   "display_name": "Python 3",
   "language": "python",
   "name": "python3"
  },
  "language_info": {
   "codemirror_mode": {
    "name": "ipython",
    "version": 3
   },
   "file_extension": ".py",
   "mimetype": "text/x-python",
   "name": "python",
   "nbconvert_exporter": "python",
   "pygments_lexer": "ipython3",
   "version": "3.7.0"
  }
 },
 "nbformat": 4,
 "nbformat_minor": 2
}
