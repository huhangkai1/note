{
 "cells": [
  {
   "cell_type": "markdown",
   "metadata": {},
   "source": [
    "# admin\n",
    "## 1. 创建创建用户\n",
    "    命令 createsuperuser \n",
    "    输入用户名，邮箱，密码创建\n",
    "## 2. 中文显示\n",
    "    修改工程settings.py文件\n",
    "    LANGUAGE_CODE = 'zh-hans'\n",
    "    TIME_ZONE = 'Asia/Shanghai'\n",
    "    USE_TZ = False\n",
    "## 3. 注册表信息\n",
    "    app的admin.py文件中加入注册表\n",
    "    from .models import UserProfile\n",
    "    class UserProfileAdmin(admin.ModelAdmin):\n",
    "        pass\n",
    "    admin.site.register(UserProfile, UserProfileAdmin)"
   ]
  }
 ],
 "metadata": {
  "kernelspec": {
   "display_name": "Python 3",
   "language": "python",
   "name": "python3"
  },
  "language_info": {
   "codemirror_mode": {
    "name": "ipython",
    "version": 3
   },
   "file_extension": ".py",
   "mimetype": "text/x-python",
   "name": "python",
   "nbconvert_exporter": "python",
   "pygments_lexer": "ipython3",
   "version": "3.7.0"
  }
 },
 "nbformat": 4,
 "nbformat_minor": 2
}
