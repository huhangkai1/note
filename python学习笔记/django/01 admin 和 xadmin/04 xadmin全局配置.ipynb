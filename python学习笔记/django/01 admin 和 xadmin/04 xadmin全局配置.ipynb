{
 "cells": [
  {
   "cell_type": "markdown",
   "metadata": {},
   "source": [
    "# xadmin全局配置\n",
    "\n",
    "## 1. 主题\n",
    "    @xadmin.sites.register(views.BaseAdminView)\n",
    "    class BaseAdminViewSettings(object):\n",
    "        enable_themes = True\n",
    "        use_bootswatch = True\n",
    "## 2. 页头页脚\n",
    "    @xadmin.sites.register(views.CommAdminView)\n",
    "    class CommAdminViewSettings(object):\n",
    "        site_title = '页头'   \n",
    "        site_footer = '页脚'\n",
    "        menu_style = \"accordion\"   # 左侧导航是否可以收起\n",
    "## 3. app显示名称\n",
    "    apps.py中加\n",
    "        # -*- coding: utf-8 -*-\n",
    "        verbose_name = u\"app名称\"\n",
    "    __init.py__中加入\n",
    "        default_app_config = \"appname.apps.appnameConfig\"   #appname为app名称\n"
   ]
  }
 ],
 "metadata": {
  "kernelspec": {
   "display_name": "Python 3",
   "language": "python",
   "name": "python3"
  },
  "language_info": {
   "codemirror_mode": {
    "name": "ipython",
    "version": 3
   },
   "file_extension": ".py",
   "mimetype": "text/x-python",
   "name": "python",
   "nbconvert_exporter": "python",
   "pygments_lexer": "ipython3",
   "version": "3.7.0"
  }
 },
 "nbformat": 4,
 "nbformat_minor": 2
}
