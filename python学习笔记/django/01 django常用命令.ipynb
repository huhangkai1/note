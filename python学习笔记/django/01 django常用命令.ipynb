{
 "cells": [
  {
   "cell_type": "markdown",
   "metadata": {},
   "source": [
    "# django常用命令\n",
    "    1. 新建项目   \n",
    "        django-admin.py startproject project-name\n",
    "    2. 新建 app   \n",
    "        python manage.py startapp app-name   或\n",
    "        django-admin.py startapp app-name\n",
    "    3. 同步数据库  \n",
    "        python manage.py makemigrations\n",
    "        python manage.py migrate\n",
    "    4. 使用开发服务器\n",
    "        python manage.py runserver\n",
    "        # 当提示端口被占用的时候，可以用其它端口（当然也可以kill掉占用端口的进程）\n",
    "        python manage.py runserver 8001\n",
    "        # 监听所有可用 ip\n",
    "        python manage.py runserver 0.0.0.0:8000\n",
    "    5. 清空数据库\n",
    "        python manage.py flush\n",
    "    6. 创建超级管理员\n",
    "        #按照提示输入用户名和对应的密码就好了邮箱可以留空，用户名和密码必填\n",
    "        python manage.py createsuperuser\n",
    "        #修改 用户密码可以用：\n",
    "        python manage.py changepassword username\n",
    "    7. 导出数据 导入数据\n",
    "        python manage.py dumpdata appname > appname.json\n",
    "        python manage.py loaddata appname.json\n",
    "    8. Django 项目环境终端\n",
    "        python manage.py shell\n",
    "    9. 数据库命令行\n",
    "        python manage.py dbshell\n",
    "    "
   ]
  }
 ],
 "metadata": {
  "kernelspec": {
   "display_name": "Python 3",
   "language": "python",
   "name": "python3"
  },
  "language_info": {
   "codemirror_mode": {
    "name": "ipython",
    "version": 3
   },
   "file_extension": ".py",
   "mimetype": "text/x-python",
   "name": "python",
   "nbconvert_exporter": "python",
   "pygments_lexer": "ipython3",
   "version": "3.7.0"
  }
 },
 "nbformat": 4,
 "nbformat_minor": 2
}
