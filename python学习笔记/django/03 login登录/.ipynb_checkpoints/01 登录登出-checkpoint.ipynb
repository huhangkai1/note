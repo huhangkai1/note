{
 "cells": [
  {
   "cell_type": "markdown",
   "metadata": {},
   "source": [
    "# urls.py\n",
    "    path('login/', loginViews.as_view(), name=\"login\"),\n",
    "    path('logout/', logoutViews.as_view(), name=\"logout\"),\n",
    "# 01. 登录\n",
    "    from django.http import HttpResponseRedirect\n",
    "    from django.shortcuts import render\n",
    "    from django.contrib.auth import login, logout, authenticate\n",
    "    from django.views.generic.base import View\n",
    "    from django.urls import reverse\n",
    "    \n",
    "    class loginViews(View):\n",
    "    '''\n",
    "        用户登录\n",
    "    '''\n",
    "    def get(self, request):\n",
    "        return render(request, \"login.html\", {})\n",
    "\n",
    "    def post(self, request):\n",
    "        login_form = LoginForm(request.POST)\n",
    "        if login_form.is_valid():\n",
    "            data = login_form.cleaned_data\n",
    "            user = authenticate(username=data[\"username\"], password=data[\"password\"])\n",
    "            if user:\n",
    "                if user.is_active:\n",
    "                    login(request, user)\n",
    "                    return HttpResponseRedirect(reverse(\"index\"))\n",
    "                else:\n",
    "                    return render(request, \"login.html\", {\"msg\": \"用户未激活！\"})\n",
    "            else:\n",
    "                return render(request, \"login.html\", {\"msg\": \"用户名或密码错误！\"})\n",
    "        else:\n",
    "            return render(request, \"login.html\", {\"login_form\":login_form})\n",
    "# 02. 登出\n",
    "    class logoutViews(View):\n",
    "    '''\n",
    "        用户登出\n",
    "    '''\n",
    "\n",
    "    def get(self, request):\n",
    "        logout(request)\n",
    "        return HttpResponseRedirect(reverse(\"index\"))\n",
    "# 03. 自定义登录\n",
    "    settings.py 加入配置：\n",
    "        AUTHENTICATION_BACKENDS = (\n",
    "            'users.views.CustomBackend',\n",
    "        )\n",
    "    users.views 加入类：\n",
    "    from django.contrib.auth.backends import ModelBackend\n",
    "    class CustomBackend(ModelBackend):\n",
    "        def authenticate(self, username=None, password=None, **kwargs):\n",
    "            try:\n",
    "                user = UserProfile.objects.get(Q(username=username)|Q(email=username)|Q(email=username))\n",
    "                if user.check_password(password):\n",
    "                    return user\n",
    "            except Exception as e:\n",
    "                return None"
   ]
  }
 ],
 "metadata": {
  "kernelspec": {
   "display_name": "Python 3",
   "language": "python",
   "name": "python3"
  },
  "language_info": {
   "codemirror_mode": {
    "name": "ipython",
    "version": 3
   },
   "file_extension": ".py",
   "mimetype": "text/x-python",
   "name": "python",
   "nbconvert_exporter": "python",
   "pygments_lexer": "ipython3",
   "version": "3.7.0"
  }
 },
 "nbformat": 4,
 "nbformat_minor": 2
}
