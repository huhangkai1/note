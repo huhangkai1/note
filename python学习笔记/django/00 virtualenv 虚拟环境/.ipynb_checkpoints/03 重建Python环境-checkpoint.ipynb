{
 "cells": [
  {
   "cell_type": "markdown",
   "metadata": {},
   "source": [
    "# 重建Python环境\n",
    "    1. 冻结环境，导出环境包名称\n",
    "        pip freeze >packages.txt\n",
    "    2. 重建环境\n",
    "        pip install -r packages.txt"
   ]
  }
 ],
 "metadata": {
  "kernelspec": {
   "display_name": "Python 3",
   "language": "python",
   "name": "python3"
  },
  "language_info": {
   "codemirror_mode": {
    "name": "ipython",
    "version": 3
   },
   "file_extension": ".py",
   "mimetype": "text/x-python",
   "name": "python",
   "nbconvert_exporter": "python",
   "pygments_lexer": "ipython3",
   "version": "3.7.0"
  }
 },
 "nbformat": 4,
 "nbformat_minor": 2
}
