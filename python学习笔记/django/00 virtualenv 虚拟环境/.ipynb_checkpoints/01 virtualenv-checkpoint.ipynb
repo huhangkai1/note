{
 "cells": [
  {
   "cell_type": "markdown",
   "metadata": {},
   "source": [
    "# virtualenv\n",
    "    1. 安装\n",
    "        pip install virtualenv\n",
    "    2. 创建虚拟环境\n",
    "        virtualenv venv\n",
    "        为环境指定Python解释器:\n",
    "        virtualenv -p c:\\python27\\python.exe venv\n",
    "    3. 激活虚拟环境\n",
    "        activate venv\n",
    "    4. 停止虚拟环境\n",
    "        deactivate\n",
    "    5. 删除虚拟环境\n",
    "        rmvirtualenv venv"
   ]
  }
 ],
 "metadata": {
  "kernelspec": {
   "display_name": "Python 3",
   "language": "python",
   "name": "python3"
  },
  "language_info": {
   "codemirror_mode": {
    "name": "ipython",
    "version": 3
   },
   "file_extension": ".py",
   "mimetype": "text/x-python",
   "name": "python",
   "nbconvert_exporter": "python",
   "pygments_lexer": "ipython3",
   "version": "3.7.0"
  }
 },
 "nbformat": 4,
 "nbformat_minor": 2
}
