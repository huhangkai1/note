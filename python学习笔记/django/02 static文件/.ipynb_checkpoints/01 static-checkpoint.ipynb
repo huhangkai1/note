{
 "cells": [
  {
   "cell_type": "markdown",
   "metadata": {},
   "source": [
    "# 01. settings.py 配置\n",
    "    STATIC_URL = '/static/'后加入\n",
    "    STATICFILES_DIRS = (\n",
    "        os.path.join(BASE_DIR, \"static\"),\n",
    "    )\n",
    "# 02. urls.py配置\n",
    "    from django.views.generic import TemplateView\n",
    "    path('',TemplateView.as_view(template_name='index.html'), name=\"index\")"
   ]
  }
 ],
 "metadata": {
  "kernelspec": {
   "display_name": "Python 3",
   "language": "python",
   "name": "python3"
  },
  "language_info": {
   "codemirror_mode": {
    "name": "ipython",
    "version": 3
   },
   "file_extension": ".py",
   "mimetype": "text/x-python",
   "name": "python",
   "nbconvert_exporter": "python",
   "pygments_lexer": "ipython3",
   "version": "3.7.0"
  }
 },
 "nbformat": 4,
 "nbformat_minor": 2
}
