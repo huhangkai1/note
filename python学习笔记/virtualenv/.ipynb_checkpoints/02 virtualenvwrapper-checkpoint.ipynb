{
 "cells": [
  {
   "cell_type": "markdown",
   "metadata": {},
   "source": [
    "# virtualenvwrapper\n",
    "    为了使用virtualenv更方便，可以借助 virtualenvwrapper\n",
    "    1. 安装virtualenvwrapper, 默认创建的虚拟环境位于C:\\Users\\username\\envs, 可以通过环境变量 WORKON_HOME 来定制。\n",
    "        pip install virtualenvwrapper-win\n",
    "    2. 创建虚拟环境\n",
    "        mkvirtualenv venv\n",
    "        为环境指定Python解释器:\n",
    "        mkvirtualenv --python= c:\\python27\\python.exe venv\n",
    "    3. 列出所有虚拟环境\n",
    "        lsvirtualenv  或  workon \n",
    "    4. 激活虚拟环境\n",
    "        workon venv　\n",
    "    5. 进入虚拟环境目录\n",
    "        cdvirtualenv\n",
    "    6. 进入虚拟环境的site-packages目录\n",
    "        cdsitepackages\n",
    "    7. 列出site-packages目录的所有软件包\n",
    "        lssitepackages\n",
    "    8. 停止虚拟环境\n",
    "        deactivate\n",
    "    9. 删除虚拟环境\n",
    "        rmvitualenv venv"
   ]
  }
 ],
 "metadata": {
  "kernelspec": {
   "display_name": "Python 3",
   "language": "python",
   "name": "python3"
  },
  "language_info": {
   "codemirror_mode": {
    "name": "ipython",
    "version": 3
   },
   "file_extension": ".py",
   "mimetype": "text/x-python",
   "name": "python",
   "nbconvert_exporter": "python",
   "pygments_lexer": "ipython3",
   "version": "3.7.0"
  }
 },
 "nbformat": 4,
 "nbformat_minor": 2
}
