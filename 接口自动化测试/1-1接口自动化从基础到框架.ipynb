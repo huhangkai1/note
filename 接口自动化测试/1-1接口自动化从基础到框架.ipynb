{
 "cells": [
  {
   "cell_type": "markdown",
   "metadata": {},
   "source": [
    "# 接口自动化从设计到开发\n",
    "1. 设计框架\n",
    "2. 工具类封装\n",
    "3. 基类封装\n",
    "4. 调试错误\n",
    "5. 数据处理\n",
    "6. 回写测试结果\n",
    "7. 解决数据依赖\n",
    "8. 结果统计\n",
    "9. 邮件服务\n",
    "10. 发送报告"
   ]
  },
  {
   "cell_type": "markdown",
   "metadata": {},
   "source": [
    "# 常见测试查漏补缺\n",
    "1. 操作数据库\n",
    "2. 操作cookie"
   ]
  }
 ],
 "metadata": {
  "kernelspec": {
   "display_name": "Python 3",
   "language": "python",
   "name": "python3"
  },
  "language_info": {
   "codemirror_mode": {
    "name": "ipython",
    "version": 3
   },
   "file_extension": ".py",
   "mimetype": "text/x-python",
   "name": "python",
   "nbconvert_exporter": "python",
   "pygments_lexer": "ipython3",
   "version": "3.7.0"
  }
 },
 "nbformat": 4,
 "nbformat_minor": 2
}
