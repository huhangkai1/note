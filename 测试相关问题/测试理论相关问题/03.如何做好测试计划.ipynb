{
 "cells": [
  {
   "cell_type": "markdown",
   "metadata": {},
   "source": [
    "# 如何做好测试计划\n",
    "## 1、明确测试什么\n",
    "## 2、明确测试目标\n",
    "## 3、明确项目的开始时间和结束时间\n",
    "## 4、明确测试方案\n",
    "## 5、明确资料的位置"
   ]
  }
 ],
 "metadata": {
  "kernelspec": {
   "display_name": "Python 3",
   "language": "python",
   "name": "python3"
  },
  "language_info": {
   "codemirror_mode": {
    "name": "ipython",
    "version": 3
   },
   "file_extension": ".py",
   "mimetype": "text/x-python",
   "name": "python",
   "nbconvert_exporter": "python",
   "pygments_lexer": "ipython3",
   "version": "3.7.0"
  }
 },
 "nbformat": 4,
 "nbformat_minor": 2
}
