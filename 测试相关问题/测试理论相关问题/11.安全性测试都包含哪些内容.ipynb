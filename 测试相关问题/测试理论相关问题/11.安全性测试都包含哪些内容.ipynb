{
 "cells": [
  {
   "cell_type": "markdown",
   "metadata": {},
   "source": [
    "# 安全性测试都包含哪些内容\n",
    "* 用户访问认证\n",
    "* 传输数据加密\n",
    "* 安全防护策略：如安全日志、入侵检测、隔离防护、漏洞扫描\n",
    "* 数据备份与恢复\n",
    "* 防病毒系统\n",
    "* SQL注入，JS注入"
   ]
  }
 ],
 "metadata": {
  "kernelspec": {
   "display_name": "Python 3",
   "language": "python",
   "name": "python3"
  },
  "language_info": {
   "codemirror_mode": {
    "name": "ipython",
    "version": 3
   },
   "file_extension": ".py",
   "mimetype": "text/x-python",
   "name": "python",
   "nbconvert_exporter": "python",
   "pygments_lexer": "ipython3",
   "version": "3.7.0"
  }
 },
 "nbformat": 4,
 "nbformat_minor": 2
}
