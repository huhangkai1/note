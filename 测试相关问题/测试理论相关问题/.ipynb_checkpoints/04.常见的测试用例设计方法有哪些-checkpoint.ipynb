{
 "cells": [
  {
   "cell_type": "markdown",
   "metadata": {},
   "source": [
    "# 常见的测试用例设计方法有哪些\n",
    "## 1、等价类型划分法\n",
    "## 2、边界值分析法\n",
    "## 3、错误推测法\n",
    "## 4、正交表分析法\n",
    "## 5、场景分析法\n",
    "## 6、因果图法"
   ]
  }
 ],
 "metadata": {
  "kernelspec": {
   "display_name": "Python 3",
   "language": "python",
   "name": "python3"
  },
  "language_info": {
   "codemirror_mode": {
    "name": "ipython",
    "version": 3
   },
   "file_extension": ".py",
   "mimetype": "text/x-python",
   "name": "python",
   "nbconvert_exporter": "python",
   "pygments_lexer": "ipython3",
   "version": "3.7.0"
  }
 },
 "nbformat": 4,
 "nbformat_minor": 2
}
