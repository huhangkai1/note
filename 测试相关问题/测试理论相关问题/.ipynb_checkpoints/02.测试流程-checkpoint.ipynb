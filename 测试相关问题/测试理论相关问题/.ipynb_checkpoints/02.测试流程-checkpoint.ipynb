{
 "cells": [
  {
   "cell_type": "markdown",
   "metadata": {},
   "source": [
    "# 测试流程\n",
    "## 1.需求沟通\n",
    "## 2.制定测试方案\n",
    "## 3.设计测试用例\n",
    "## 4.测试环境准备\n",
    "## 5.测试执行\n",
    "## 6.bug处理\n",
    "## 7.回归验证\n",
    "## 8.跟进上线"
   ]
  }
 ],
 "metadata": {
  "kernelspec": {
   "display_name": "Python 3",
   "language": "python",
   "name": "python3"
  },
  "language_info": {
   "codemirror_mode": {
    "name": "ipython",
    "version": 3
   },
   "file_extension": ".py",
   "mimetype": "text/x-python",
   "name": "python",
   "nbconvert_exporter": "python",
   "pygments_lexer": "ipython3",
   "version": "3.7.0"
  }
 },
 "nbformat": 4,
 "nbformat_minor": 2
}
