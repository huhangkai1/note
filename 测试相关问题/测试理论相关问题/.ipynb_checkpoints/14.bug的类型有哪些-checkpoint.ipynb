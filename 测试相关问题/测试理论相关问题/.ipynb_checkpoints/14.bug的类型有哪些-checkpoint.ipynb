{
 "cells": [
  {
   "cell_type": "markdown",
   "metadata": {},
   "source": [
    "# bug的类型有哪些\n",
    "* bug，代码编写错误导致的功能问题\n",
    "* Defect即缺陷，实现与需求不一致\n",
    "* Fault即故障，由于环境系统引起的运行失败\n",
    "* Error即错误，语法错误，逻辑错误，不易发现"
   ]
  }
 ],
 "metadata": {
  "kernelspec": {
   "display_name": "Python 3",
   "language": "python",
   "name": "python3"
  },
  "language_info": {
   "codemirror_mode": {
    "name": "ipython",
    "version": 3
   },
   "file_extension": ".py",
   "mimetype": "text/x-python",
   "name": "python",
   "nbconvert_exporter": "python",
   "pygments_lexer": "ipython3",
   "version": "3.7.0"
  }
 },
 "nbformat": 4,
 "nbformat_minor": 2
}
