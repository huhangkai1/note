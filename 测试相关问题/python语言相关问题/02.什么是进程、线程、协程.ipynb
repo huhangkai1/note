{
 "cells": [
  {
   "cell_type": "markdown",
   "metadata": {},
   "source": [
    "# 什么是进程、线程、协程"
   ]
  },
  {
   "cell_type": "markdown",
   "metadata": {},
   "source": [
    "## 进程\n",
    "* 独立的数据空间，进程间数据不共享，系统调度"
   ]
  },
  {
   "cell_type": "code",
   "execution_count": 5,
   "metadata": {},
   "outputs": [],
   "source": [
    "from multiprocessing import Process\n",
    "def foo(i):\n",
    "    print(\"This is Process\",i)\n",
    "for i in range(3):\n",
    "    p = Process(target=foo, args=(i,))\n",
    "    p.start()"
   ]
  },
  {
   "cell_type": "markdown",
   "metadata": {},
   "source": [
    "## 线程\n",
    "* 执行程序的最小单位，进程内线程间共享资源，系统调度"
   ]
  },
  {
   "cell_type": "code",
   "execution_count": 6,
   "metadata": {},
   "outputs": [
    {
     "name": "stdout",
     "output_type": "stream",
     "text": [
      "This is Thread 0\n",
      "This is Thread 1\n",
      "This is Thread 2\n"
     ]
    }
   ],
   "source": [
    "from threading import Thread\n",
    "def foo(i):\n",
    "    print(\"This is Thread\",i)\n",
    "for i in range(3):\n",
    "    p = Thread(target=foo, args=(i,))\n",
    "    p.start()"
   ]
  },
  {
   "cell_type": "markdown",
   "metadata": {},
   "source": [
    "## 协程\n",
    "* 程序员调度，分解一个线程成为多个微线程"
   ]
  },
  {
   "cell_type": "code",
   "execution_count": 8,
   "metadata": {},
   "outputs": [
    {
     "name": "stdout",
     "output_type": "stream",
     "text": [
      "start_foo1\n",
      "start_foo2\n",
      "end_foo2\n",
      "end_foo1\n"
     ]
    },
    {
     "data": {
      "text/plain": [
       "[<Greenlet \"Greenlet-0\" at 0x4f7c158: _run>,\n",
       " <Greenlet \"Greenlet-1\" at 0x40dd9d8: _run>]"
      ]
     },
     "execution_count": 8,
     "metadata": {},
     "output_type": "execute_result"
    }
   ],
   "source": [
    "import gevent\n",
    "def foo1():\n",
    "    print(\"start_foo1\")\n",
    "    gevent.sleep(2)\n",
    "    print(\"end_foo1\")\n",
    "def foo2():\n",
    "    print(\"start_foo2\")\n",
    "    gevent.sleep(1)\n",
    "    print(\"end_foo2\")\n",
    "gevent.joinall([\n",
    "    gevent.spawn(foo1),\n",
    "    gevent.spawn(foo2),\n",
    "])"
   ]
  }
 ],
 "metadata": {
  "kernelspec": {
   "display_name": "Python 3",
   "language": "python",
   "name": "python3"
  },
  "language_info": {
   "codemirror_mode": {
    "name": "ipython",
    "version": 3
   },
   "file_extension": ".py",
   "mimetype": "text/x-python",
   "name": "python",
   "nbconvert_exporter": "python",
   "pygments_lexer": "ipython3",
   "version": "3.7.0"
  }
 },
 "nbformat": 4,
 "nbformat_minor": 2
}
