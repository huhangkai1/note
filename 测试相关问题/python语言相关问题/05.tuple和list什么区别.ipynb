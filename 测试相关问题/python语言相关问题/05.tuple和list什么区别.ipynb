{
 "cells": [
  {
   "cell_type": "markdown",
   "metadata": {},
   "source": [
    "# tuple和list什么区别\n",
    "1、list中是可变的，tuple不可变\n",
    "\n",
    "　  所以tuple没有insert, pop,append方法\n",
    "\n",
    "2、定义只有一个元素的tuple的时候，必须加逗号，否则不会被认为是tuple，而被识别为括号\n",
    "\n",
    "　  比如，a = (1) 会被识别为数字1， (1,)这样才被识别为一个元组，只有一个元素，数字1\n",
    "\n",
    "3、元组可以转列表，但不可以转字典\n",
    "\n",
    "不可变的tuple有什么意义？因为tuple不可变，所以代码更安全。如果可能，能用tuple代替list就尽量用tuple。"
   ]
  },
  {
   "cell_type": "code",
   "execution_count": 7,
   "metadata": {},
   "outputs": [
    {
     "name": "stdout",
     "output_type": "stream",
     "text": [
      "(1, 2, 3) [4, 5, 6]\n",
      "[1, 2, 3] (4, 5, 6)\n"
     ]
    }
   ],
   "source": [
    "a = (1,2,3)\n",
    "b = [4,5,6]\n",
    "print(a,b)\n",
    "print(list(a),tuple(b))"
   ]
  }
 ],
 "metadata": {
  "kernelspec": {
   "display_name": "Python 3",
   "language": "python",
   "name": "python3"
  },
  "language_info": {
   "codemirror_mode": {
    "name": "ipython",
    "version": 3
   },
   "file_extension": ".py",
   "mimetype": "text/x-python",
   "name": "python",
   "nbconvert_exporter": "python",
   "pygments_lexer": "ipython3",
   "version": "3.7.0"
  }
 },
 "nbformat": 4,
 "nbformat_minor": 2
}
