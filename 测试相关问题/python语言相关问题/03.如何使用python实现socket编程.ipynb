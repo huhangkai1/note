{
 "cells": [
  {
   "cell_type": "markdown",
   "metadata": {},
   "source": [
    "# 如何使用python实现socket编程\n",
    "网络上的两个程序通过一个双向的通信连接实现数据的交换，这个连接的一端称为一个socket。\n",
    "建立网络通信连接至少要一对端口号(socket)。socket本质是编程接口(API)，对TCP/IP的封装，TCP/IP也要提供可供程序员做网络开发所用的接口，这就是Socket编程接口；HTTP是轿车，提供了封装或者显示数据的具体形式；Socket是发动机，提供了网络通信的能力。"
   ]
  },
  {
   "cell_type": "code",
   "execution_count": null,
   "metadata": {},
   "outputs": [],
   "source": [
    "# 服务端\n",
    "import socket\n",
    "s = socket.socket()\n",
    "s.bind((\"127.0.0.1\",6666))\n",
    "s.listen(5)\n",
    "while True:\n",
    "    c, addr = s.accept()\n",
    "    print('连接地址：', addr)\n",
    "    c.send('Welcome')\n",
    "    c.close()"
   ]
  },
  {
   "cell_type": "code",
   "execution_count": null,
   "metadata": {},
   "outputs": [],
   "source": [
    "# 客户端\n",
    "import socket\n",
    "s = socket.socket()\n",
    "s.bind((\"127.0.0.1\",6666))\n",
    "print(s.recv(1024))\n",
    "s.close()"
   ]
  }
 ],
 "metadata": {
  "kernelspec": {
   "display_name": "Python 3",
   "language": "python",
   "name": "python3"
  },
  "language_info": {
   "codemirror_mode": {
    "name": "ipython",
    "version": 3
   },
   "file_extension": ".py",
   "mimetype": "text/x-python",
   "name": "python",
   "nbconvert_exporter": "python",
   "pygments_lexer": "ipython3",
   "version": "3.7.0"
  }
 },
 "nbformat": 4,
 "nbformat_minor": 2
}
