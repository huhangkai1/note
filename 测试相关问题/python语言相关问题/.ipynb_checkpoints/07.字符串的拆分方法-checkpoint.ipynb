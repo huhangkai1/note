{
 "cells": [
  {
   "cell_type": "markdown",
   "metadata": {},
   "source": [
    "# 字符串的拆分方法\n",
    "* string对象的split方法,不允许多个分割符\n",
    "* 函数re.split()，允许多个分割符"
   ]
  },
  {
   "cell_type": "code",
   "execution_count": 3,
   "metadata": {},
   "outputs": [
    {
     "name": "stdout",
     "output_type": "stream",
     "text": [
      "['dsfsda,sdf', 'sdfsda*dsf', 'df']\n",
      "['dsfsda', 'sdf', 'sdfsda', 'dsf', 'df']\n",
      "['ds', 'da', 'sdf', 'sd', 'da', 'dsf', 'df']\n"
     ]
    }
   ],
   "source": [
    "line = \"dsfsda,sdf sdfsda*dsf df\"\n",
    "print(line.split(\" \"))\n",
    "import re\n",
    "print(re.split('[ ,*]',line))\n",
    "print(re.split(' |,|\\*|fs',line))"
   ]
  }
 ],
 "metadata": {
  "kernelspec": {
   "display_name": "Python 3",
   "language": "python",
   "name": "python3"
  },
  "language_info": {
   "codemirror_mode": {
    "name": "ipython",
    "version": 3
   },
   "file_extension": ".py",
   "mimetype": "text/x-python",
   "name": "python",
   "nbconvert_exporter": "python",
   "pygments_lexer": "ipython3",
   "version": "3.7.0"
  }
 },
 "nbformat": 4,
 "nbformat_minor": 2
}
