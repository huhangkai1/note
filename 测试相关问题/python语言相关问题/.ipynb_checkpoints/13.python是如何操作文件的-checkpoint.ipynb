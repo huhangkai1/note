{
 "cells": [
  {
   "cell_type": "markdown",
   "metadata": {},
   "source": [
    "# python是如何操作文件的\n",
    "* 打开文件\n",
    "* 写入或读取数据\n",
    "* 关闭文件"
   ]
  },
  {
   "cell_type": "code",
   "execution_count": 1,
   "metadata": {},
   "outputs": [
    {
     "name": "stdout",
     "output_type": "stream",
     "text": [
      "hello world\n"
     ]
    }
   ],
   "source": [
    "f = open('test.txt', 'wt')\n",
    "f.write(\"hello world\")\n",
    "f.close\n",
    "\n",
    "# 使用with,追加内容\n",
    "with open('test.txt,', 'at') as f:\n",
    "    f.write(\"\\nhell add\")\n",
    "# 读取文件\n",
    "with open('test.txt', 'rt') as f:\n",
    "    print(f.read())\n"
   ]
  }
 ],
 "metadata": {
  "kernelspec": {
   "display_name": "Python 3",
   "language": "python",
   "name": "python3"
  },
  "language_info": {
   "codemirror_mode": {
    "name": "ipython",
    "version": 3
   },
   "file_extension": ".py",
   "mimetype": "text/x-python",
   "name": "python",
   "nbconvert_exporter": "python",
   "pygments_lexer": "ipython3",
   "version": "3.7.0"
  }
 },
 "nbformat": 4,
 "nbformat_minor": 2
}
