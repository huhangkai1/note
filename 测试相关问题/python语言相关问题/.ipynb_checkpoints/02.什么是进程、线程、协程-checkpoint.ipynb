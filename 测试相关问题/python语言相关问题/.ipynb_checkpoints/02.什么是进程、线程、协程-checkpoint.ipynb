{
 "cells": [
  {
   "cell_type": "markdown",
   "metadata": {},
   "source": [
    "# 什么是进程、线程、协程"
   ]
  },
  {
   "cell_type": "markdown",
   "metadata": {},
   "source": [
    "## 进程\n",
    "* 独立的数据空间，进程间数据不共享，系统调度"
   ]
  },
  {
   "cell_type": "code",
   "execution_count": 5,
   "metadata": {},
   "outputs": [],
   "source": [
    "from multiprocessing import Process\n",
    "def foo(i):\n",
    "    print(\"This is Process\",i)\n",
    "for i in range(3):\n",
    "    p = Process(target=foo, args=(i,))\n",
    "    p.start()"
   ]
  },
  {
   "cell_type": "markdown",
   "metadata": {},
   "source": [
    "## 线程\n",
    "* 执行程序的最小单位，进程内线程间共享资源，系统调度"
   ]
  },
  {
   "cell_type": "code",
   "execution_count": 6,
   "metadata": {},
   "outputs": [
    {
     "name": "stdout",
     "output_type": "stream",
     "text": [
      "This is Thread 0\n",
      "This is Thread 1\n",
      "This is Thread 2\n"
     ]
    }
   ],
   "source": [
    "from threading import Thread\n",
    "def foo(i):\n",
    "    print(\"This is Thread\",i)\n",
    "for i in range(3):\n",
    "    p = Thread(target=foo, args=(i,))\n",
    "    p.start()"
   ]
  },
  {
   "cell_type": "markdown",
   "metadata": {},
   "source": [
    "## 协程\n",
    "* 程序员调度，分解一个线程成为多个微线程"
   ]
  },
  {
   "cell_type": "code",
   "execution_count": 7,
   "metadata": {},
   "outputs": [
    {
     "ename": "SyntaxError",
     "evalue": "invalid syntax (<ipython-input-7-4e23fe1c85b0>, line 12)",
     "output_type": "error",
     "traceback": [
      "\u001b[1;36m  File \u001b[1;32m\"<ipython-input-7-4e23fe1c85b0>\"\u001b[1;36m, line \u001b[1;32m12\u001b[0m\n\u001b[1;33m    gevent.spawn(foo2)\u001b[0m\n\u001b[1;37m         ^\u001b[0m\n\u001b[1;31mSyntaxError\u001b[0m\u001b[1;31m:\u001b[0m invalid syntax\n"
     ]
    }
   ],
   "source": [
    "import gevent\n",
    "def foo1():\n",
    "    print(\"start_foo1\")\n",
    "    gevent.sleep(2)\n",
    "    print(\"end_foo1\")\n",
    "def foo2():\n",
    "    print(\"start_foo2\")\n",
    "    gevent.sleep(1)\n",
    "    print(\"end_foo2\")\n",
    "gevent.joinall([\n",
    "    gevent.spawn(foo1),\n",
    "    gevent.spawn(foo2),\n",
    "])"
   ]
  }
 ],
 "metadata": {
  "kernelspec": {
   "display_name": "Python 3",
   "language": "python",
   "name": "python3"
  },
  "language_info": {
   "codemirror_mode": {
    "name": "ipython",
    "version": 3
   },
   "file_extension": ".py",
   "mimetype": "text/x-python",
   "name": "python",
   "nbconvert_exporter": "python",
   "pygments_lexer": "ipython3",
   "version": "3.7.0"
  }
 },
 "nbformat": 4,
 "nbformat_minor": 2
}
