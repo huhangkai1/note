{
 "cells": [
  {
   "cell_type": "markdown",
   "metadata": {},
   "source": [
    "# re模块中match和search方法的不同\n",
    "* match在字符串开始位置匹配\n",
    "* search扫描整个字符串查找匹配"
   ]
  },
  {
   "cell_type": "code",
   "execution_count": 2,
   "metadata": {},
   "outputs": [
    {
     "name": "stdout",
     "output_type": "stream",
     "text": [
      "<re.Match object; span=(0, 5), match='hello'>\n",
      "<re.Match object; span=(0, 5), match='hello'>\n",
      "None\n",
      "<re.Match object; span=(5, 10), match='world'>\n",
      "hello\n"
     ]
    }
   ],
   "source": [
    "import re\n",
    "s1 = 'helloworld, helloworld'\n",
    "print(re.match('hello',s1))\n",
    "print(re.search('hello',s1))\n",
    "print(re.match('world',s1))\n",
    "print(re.search('world',s1))\n",
    "print(re.match('hello',s1).group())"
   ]
  }
 ],
 "metadata": {
  "kernelspec": {
   "display_name": "Python 3",
   "language": "python",
   "name": "python3"
  },
  "language_info": {
   "codemirror_mode": {
    "name": "ipython",
    "version": 3
   },
   "file_extension": ".py",
   "mimetype": "text/x-python",
   "name": "python",
   "nbconvert_exporter": "python",
   "pygments_lexer": "ipython3",
   "version": "3.7.0"
  }
 },
 "nbformat": 4,
 "nbformat_minor": 2
}
