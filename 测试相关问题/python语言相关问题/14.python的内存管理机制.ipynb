{
 "cells": [
  {
   "cell_type": "markdown",
   "metadata": {},
   "source": [
    "# python的内存管理机制\n",
    "## 关于python的存储问题\n",
    "* 由于python中万物皆对象，所以python的存储问题是对象的存储问题，并且对于每个对象，python会分配一块内存空间去存储它\n",
    "* 对于整数和短小的字符等，python会执行缓存机制，即将这些对象进行缓存，不会为相同的对象分配多个内存空间\n",
    "* 容器对象，如列表、元组、字典等，存储的其他对象，仅仅是其他对象的引用，即地址，并不是这些对象本身\n",
    "## 关于引用计数器\n",
    "* 一个对象会记录着引用自己的对象的个数，每增加一个引用，个数加一，每减少一个引用，个数减一\n",
    "* 查看引用对象个数的方法：导入sys模块，使用模块中的getrefcount(对象)方法，由于这里也是一个引用，故输出的结果多1\n",
    "* 增加引用个数的情况：1.对象被创建p = Person()，增加1；2.对象被引用p1 = p，增加1；3.对象被当作参数传入函数func(object)，增加2，原因是函数中有两个属性在引用该对象；4.对象存储到容器对象中l = [p]，增加1\n",
    "* 减少引用个数的情况：1.对象的别名被销毁del p，减少1；2.对象的别名被赋予其他对象，减少1；3.对象离开自己的作用域，如getrefcount(对象)方法，每次用完后，其对对象的那个引用就会被销毁，减少1；4.对象从容器对象中删除，或者容器对象被销毁，减少1\n",
    "* 引用计数器用法：多一个引用，结果加1，销毁一个引用，结果减少1\n",
    "* 引用计数器机制：利用引用计数器方法，在检测到对象引用个数为0时，对普通的对象进行释放内存的机制\n",
    "## 关于循环引用问题\n",
    "* 循环引用即对象之间进行相互引用，出现循环引用后，利用上述引用计数机制无法对循环引用中的对象进行释放空间，这就是循环引用问题\n",
    "* 循环引用形式：即对象p中的属性引用d，而对象d中属性同时来引用p，从而造成仅仅删除p和d对象，也无法释放其内存空间，因为他们依然在被引用。深入解释就是，循环引用后，p和d被引用个数为2，删除p和d对象后，两者被引用个数变为1，并不是0，而python只有在检查到一个对象的被引用个数为0时，才会自动释放其内存，所以这里无法释放p和d的内存空间\n",
    "## 关于垃圾回收\n"
   ]
  },
  {
   "cell_type": "code",
   "execution_count": 8,
   "metadata": {},
   "outputs": [
    {
     "name": "stdout",
     "output_type": "stream",
     "text": [
      "3\n",
      "4\n",
      "5\n",
      "4\n"
     ]
    }
   ],
   "source": [
    "# 引用计数器用法\n",
    "import sys \n",
    "class Person(object): \n",
    "    pass \n",
    "p = Person()\n",
    "p1 = p \n",
    "print(sys.getrefcount(p)) \n",
    "p2 = p1 \n",
    "print(sys.getrefcount(p)) \n",
    "p3 = p2 \n",
    "print(sys.getrefcount(p)) \n",
    "del p1 \n",
    "print(sys.getrefcount(p))"
   ]
  },
  {
   "cell_type": "code",
   "execution_count": 13,
   "metadata": {},
   "outputs": [],
   "source": [
    "# 循环引用形式\n",
    "class Person(object):\n",
    "    pass\n",
    "class Dog(object):\n",
    "    pass\n",
    "p = Person()\n",
    "d = Dog()\n",
    "p.pet = d\n",
    "d.master = p"
   ]
  }
 ],
 "metadata": {
  "kernelspec": {
   "display_name": "Python 3",
   "language": "python",
   "name": "python3"
  },
  "language_info": {
   "codemirror_mode": {
    "name": "ipython",
    "version": 3
   },
   "file_extension": ".py",
   "mimetype": "text/x-python",
   "name": "python",
   "nbconvert_exporter": "python",
   "pygments_lexer": "ipython3",
   "version": "3.7.0"
  }
 },
 "nbformat": 4,
 "nbformat_minor": 2
}
