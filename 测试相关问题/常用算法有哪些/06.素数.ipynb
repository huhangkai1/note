{
 "cells": [
  {
   "cell_type": "code",
   "execution_count": 15,
   "metadata": {},
   "outputs": [
    {
     "name": "stdout",
     "output_type": "stream",
     "text": [
      "times= 1.820002555847168\n"
     ]
    },
    {
     "data": {
      "text/plain": [
       "2262"
      ]
     },
     "execution_count": 15,
     "metadata": {},
     "output_type": "execute_result"
    }
   ],
   "source": [
    "# 素数，除1和自身外，不能被其他数整除,此方法适用于判定较少数，数据量大时会超时。\n",
    "def is_prime(n):\n",
    "    if n <=1:\n",
    "        return False\n",
    "    for i in range(2,n-1):\n",
    "        if n % i == 0:\n",
    "            return False\n",
    "    return True\n",
    "\n",
    "def all_prime(n):\n",
    "    import time\n",
    "    start = time.time()\n",
    "    lists = []\n",
    "    for i in range(n):\n",
    "        if is_prime(i):\n",
    "            lists.append(i)\n",
    "    print('times=', time.time()-start)\n",
    "    return lists\n",
    "len(all_prime(20000))"
   ]
  },
  {
   "cell_type": "code",
   "execution_count": 7,
   "metadata": {},
   "outputs": [
    {
     "name": "stdout",
     "output_type": "stream",
     "text": [
      "times= 0.3000004291534424\n",
      "times= 0.7300012111663818\n",
      "times= 1.830002784729004\n"
     ]
    },
    {
     "data": {
      "text/plain": [
       "33860"
      ]
     },
     "execution_count": 7,
     "metadata": {},
     "output_type": "execute_result"
    }
   ],
   "source": [
    "def is_prime(n):\n",
    "    if n <=1:\n",
    "        return False\n",
    "    for i in range(2,int(n**0.5)+1):\n",
    "        if n % i == 0:\n",
    "            return False\n",
    "    return True\n",
    "\n",
    "def all_prime(n):\n",
    "    import time\n",
    "    start = time.time()\n",
    "    lists = []\n",
    "    for i in range(n):\n",
    "        if is_prime(i):\n",
    "            lists.append(i)\n",
    "    print('times=', time.time()-start)\n",
    "    return lists\n",
    "len(all_prime(100000))\n",
    "len(all_prime(200000))\n",
    "len(all_prime(400000))"
   ]
  },
  {
   "cell_type": "code",
   "execution_count": 3,
   "metadata": {},
   "outputs": [
    {
     "name": "stdout",
     "output_type": "stream",
     "text": [
      "times= 3.2900047302246094\n",
      "times= 11.450016021728516\n"
     ]
    },
    {
     "data": {
      "text/plain": [
       "17984"
      ]
     },
     "execution_count": 3,
     "metadata": {},
     "output_type": "execute_result"
    }
   ],
   "source": [
    "def all_prime(n):\n",
    "    def is_prime(n,lists):\n",
    "        if n <=1:\n",
    "            return False\n",
    "        for i in lists:\n",
    "            if n % i == 0:\n",
    "                return False\n",
    "        return True\n",
    "    \n",
    "    import time\n",
    "    start = time.time()\n",
    "    if n < 2:\n",
    "        return []\n",
    "    lists = [2]\n",
    "    for i in range(n):\n",
    "        if is_prime(i,lists):\n",
    "            lists.append(i)\n",
    "    print('times=', time.time()-start)\n",
    "    return lists\n",
    "len(all_prime(100000))\n",
    "len(all_prime(200000))"
   ]
  },
  {
   "cell_type": "code",
   "execution_count": 10,
   "metadata": {},
   "outputs": [
    {
     "data": {
      "text/plain": [
       "1.880118560000028"
      ]
     },
     "execution_count": 10,
     "metadata": {},
     "output_type": "execute_result"
    }
   ],
   "source": [
    "import timeit\n",
    "timeit.timeit(\"sum(range(100))\")"
   ]
  },
  {
   "cell_type": "code",
   "execution_count": 11,
   "metadata": {},
   "outputs": [
    {
     "data": {
      "text/plain": [
       "4950"
      ]
     },
     "execution_count": 11,
     "metadata": {},
     "output_type": "execute_result"
    }
   ],
   "source": [
    "sum(range(100))"
   ]
  }
 ],
 "metadata": {
  "kernelspec": {
   "display_name": "Python 3",
   "language": "python",
   "name": "python3"
  },
  "language_info": {
   "codemirror_mode": {
    "name": "ipython",
    "version": 3
   },
   "file_extension": ".py",
   "mimetype": "text/x-python",
   "name": "python",
   "nbconvert_exporter": "python",
   "pygments_lexer": "ipython3",
   "version": "3.7.0"
  }
 },
 "nbformat": 4,
 "nbformat_minor": 2
}
