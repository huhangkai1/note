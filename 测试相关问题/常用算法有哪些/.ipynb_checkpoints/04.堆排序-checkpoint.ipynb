{
 "cells": [
  {
   "cell_type": "code",
   "execution_count": 19,
   "metadata": {},
   "outputs": [
    {
     "name": "stdout",
     "output_type": "stream",
     "text": [
      "[24 34 31 96 75 42 24 48  1 19]\n",
      "[ 1 19 24 24 31 34 42 48 75 96]\n"
     ]
    }
   ],
   "source": [
    "# 堆排序\n",
    "def heap_sort(lists):\n",
    "    def bif_endian(lists, start, end):\n",
    "        root = start\n",
    "        while True:\n",
    "            child = root * 2 + 1 # 左孩子\n",
    "            if child > end:\n",
    "                break\n",
    "            if child + 1 <= end and lists[child] < lists[child+1]: \n",
    "                child += 1 # 确认最大孩子索引\n",
    "            if lists[child] > lists[root]:\n",
    "                lists[child], lists[root] = lists[root], lists[child] # 孩子节点大于父节点时交互\n",
    "                root = child\n",
    "            else:\n",
    "                break\n",
    "    # 从下到上，从右到左对每个节点进调整 循环得到非叶子节点\n",
    "    for start in range(len(lists)//2-1,-1,-1):\n",
    "        bif_endian(lists,start,len(lists)-1)\n",
    "    # 顶部和尾部呼唤后，剩余部分重新调整\n",
    "    for end in range(len(lists)-1,0,-1):\n",
    "        lists[0],lists[end] = lists[end],lists[0]\n",
    "        bif_endian(lists,0,end-1)\n",
    "    return lists\n",
    "\n",
    "import numpy as np\n",
    "a = np.random.randint(100,size=10)\n",
    "print(a)\n",
    "print(heap_sort(a))"
   ]
  }
 ],
 "metadata": {
  "kernelspec": {
   "display_name": "Python 3",
   "language": "python",
   "name": "python3"
  },
  "language_info": {
   "codemirror_mode": {
    "name": "ipython",
    "version": 3
   },
   "file_extension": ".py",
   "mimetype": "text/x-python",
   "name": "python",
   "nbconvert_exporter": "python",
   "pygments_lexer": "ipython3",
   "version": "3.7.0"
  }
 },
 "nbformat": 4,
 "nbformat_minor": 2
}
