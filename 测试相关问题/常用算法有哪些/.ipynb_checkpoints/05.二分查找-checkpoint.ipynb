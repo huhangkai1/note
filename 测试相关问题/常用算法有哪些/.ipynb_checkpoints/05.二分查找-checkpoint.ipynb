{
 "cells": [
  {
   "cell_type": "code",
   "execution_count": 5,
   "metadata": {},
   "outputs": [
    {
     "name": "stdout",
     "output_type": "stream",
     "text": [
      "[18, 20, 56, 69, 71, 77, 78, 82, 85, 93]\n"
     ]
    }
   ],
   "source": [
    "import numpy as np\n",
    "a = np.random.randint(100,size=10)\n",
    "a.sort()\n",
    "print(list(a))"
   ]
  },
  {
   "cell_type": "code",
   "execution_count": 20,
   "metadata": {},
   "outputs": [
    {
     "name": "stdout",
     "output_type": "stream",
     "text": [
      "7\n",
      "-1\n",
      "-1\n",
      "-1\n",
      "0\n",
      "9\n"
     ]
    }
   ],
   "source": [
    "def binary_search(lists,hkey,start=0,end=None):\n",
    "    if None == end:\n",
    "        end = len(lists) -1\n",
    "    if start > end:\n",
    "        return -1\n",
    "    mid = (start + end) // 2\n",
    "    if lists[mid] > hkey:\n",
    "        return binary_search(lists,hkey,start,mid-1)\n",
    "    if lists[mid] < hkey:\n",
    "        return binary_search(lists,hkey,mid+1,end)\n",
    "    return mid\n",
    "    \n",
    "a = [18, 20, 56, 69, 71, 77, 78, 82, 85, 93]\n",
    "print(binary_search(a,82))\n",
    "print(binary_search(a,74))\n",
    "print(binary_search(a,9))\n",
    "print(binary_search(a,94))\n",
    "print(binary_search(a,18))\n",
    "print(binary_search(a,93))"
   ]
  }
 ],
 "metadata": {
  "kernelspec": {
   "display_name": "Python 3",
   "language": "python",
   "name": "python3"
  },
  "language_info": {
   "codemirror_mode": {
    "name": "ipython",
    "version": 3
   },
   "file_extension": ".py",
   "mimetype": "text/x-python",
   "name": "python",
   "nbconvert_exporter": "python",
   "pygments_lexer": "ipython3",
   "version": "3.7.0"
  }
 },
 "nbformat": 4,
 "nbformat_minor": 2
}
