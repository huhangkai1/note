{
 "cells": [
  {
   "cell_type": "code",
   "execution_count": 16,
   "metadata": {},
   "outputs": [
    {
     "name": "stdout",
     "output_type": "stream",
     "text": [
      "[1, 3, 5, 6, 8, 9, 18, 46, 52, 53, 211, 4345]\n"
     ]
    }
   ],
   "source": [
    "# 从列表中挑选一个元素，作为基准值key\n",
    "# 小于key的放左边，大于key的放右边\n",
    "# 分别递归左右\n",
    "def quick_sort(lists, left=0, right=0):\n",
    "    if right == 0:\n",
    "        right = len(lists) - 1\n",
    "    if left >= right:\n",
    "        return lists\n",
    "    low = left\n",
    "    high = right\n",
    "    key = lists[low]\n",
    "    while low < high:\n",
    "        while low < high and lists[high] >= key:\n",
    "            high -= 1\n",
    "        lists[low] = lists[high]\n",
    "        while low < high and lists[low] <= key:\n",
    "            low += 1\n",
    "        lists[high] = lists[low]\n",
    "    lists[high] = key\n",
    "    quick_sort(lists,left,high-1)\n",
    "    quick_sort(lists,high+1,right)\n",
    "    return lists\n",
    "\n",
    "a = [5,3,9,52,4345,211,8,6,18,53,46,1]\n",
    "print(quick_sort(a))"
   ]
  }
 ],
 "metadata": {
  "kernelspec": {
   "display_name": "Python 3",
   "language": "python",
   "name": "python3"
  },
  "language_info": {
   "codemirror_mode": {
    "name": "ipython",
    "version": 3
   },
   "file_extension": ".py",
   "mimetype": "text/x-python",
   "name": "python",
   "nbconvert_exporter": "python",
   "pygments_lexer": "ipython3",
   "version": "3.7.0"
  }
 },
 "nbformat": 4,
 "nbformat_minor": 2
}
