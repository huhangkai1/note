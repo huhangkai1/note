{
 "cells": [
  {
   "cell_type": "markdown",
   "metadata": {},
   "source": [
    "# 如何测试一个纸杯\n",
    "    功能度：用水杯装水看漏不漏；水能不能被喝到\n",
    "\n",
    "    安全性：杯子有没有毒或细菌\n",
    "\n",
    "    可靠性：杯子从不同高度落下的损坏程度\n",
    "\n",
    "    可移植性：杯子在不同的地方、温度等环境下是否都可以正常使用\n",
    "\n",
    "    兼容性：杯子是否能够容纳果汁、白水、酒精、汽油等\n",
    "\n",
    "    易用性：杯子是否烫手、是否有防滑措施、是否方便饮用\n",
    "\n",
    "    用户文档：使用手册是否对杯子的用法、限制、使用条件等有详细描述\n",
    "\n",
    "    疲劳测试：将杯子盛上水（案例一）放24小时检查泄漏时间和情况；盛上汽油（案例二）放24小时检查泄漏时间和情况等\n",
    "\n",
    "    压力测试：用根针并在针上面不断加重量，看压强多大时会穿透"
   ]
  }
 ],
 "metadata": {
  "kernelspec": {
   "display_name": "Python 3",
   "language": "python",
   "name": "python3"
  },
  "language_info": {
   "codemirror_mode": {
    "name": "ipython",
    "version": 3
   },
   "file_extension": ".py",
   "mimetype": "text/x-python",
   "name": "python",
   "nbconvert_exporter": "python",
   "pygments_lexer": "ipython3",
   "version": "3.7.0"
  }
 },
 "nbformat": 4,
 "nbformat_minor": 2
}
