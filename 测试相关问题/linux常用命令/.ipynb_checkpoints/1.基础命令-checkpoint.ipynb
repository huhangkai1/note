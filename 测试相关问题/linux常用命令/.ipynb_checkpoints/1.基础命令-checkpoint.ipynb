{
 "cells": [
  {
   "cell_type": "markdown",
   "metadata": {},
   "source": [
    "## 基础命令\n",
    "1. cd 切换目录\n",
    "2. ls -l 列出文件详细信息； ls -a 列出当前目录下使有文件\n",
    "3. touch 创建文件\n",
    "4. mkdir 创建目录\n",
    "5. echo 创建带有内容的文件  例：echo \"hello\" > hello.text\n",
    "6. cat 查看文件内容\n",
    "7. cp 拷贝\n",
    "8. clear 清屏\n",
    "9. mv 移动或重命名\n",
    "10. rm -r 递归删除 rm -f 强制删除\n",
    "11. wc 统计文件中行数、字数、字符数\n",
    "12. grep 在文本文件中查找某个字符串\n",
    "13. tree 显示目录结构\n",
    "14. ln 创建软连接\n",
    "15. more、less分页显示文本内容\n",
    "16. head、tail显示文件头部、尾部内容"
   ]
  }
 ],
 "metadata": {
  "kernelspec": {
   "display_name": "Python 3",
   "language": "python",
   "name": "python3"
  },
  "language_info": {
   "codemirror_mode": {
    "name": "ipython",
    "version": 3
   },
   "file_extension": ".py",
   "mimetype": "text/x-python",
   "name": "python",
   "nbconvert_exporter": "python",
   "pygments_lexer": "ipython3",
   "version": "3.7.0"
  }
 },
 "nbformat": 4,
 "nbformat_minor": 2
}
