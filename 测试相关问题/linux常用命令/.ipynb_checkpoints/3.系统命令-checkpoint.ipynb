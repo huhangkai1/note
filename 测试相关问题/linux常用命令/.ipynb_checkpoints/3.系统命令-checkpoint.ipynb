{
 "cells": [
  {
   "cell_type": "markdown",
   "metadata": {},
   "source": [
    "# 系统命令\n",
    "1. ping 测试网络联通\n",
    "2. man 查看帮助\n",
    "3. kill 杀死进程\n",
    "4. top 动态显示当前耗费资源最多的进程信息\n",
    "5. ps 显示瞬间进程状态\n",
    "6. df 查看磁盘大小；df -h 带有单位显示磁盘信息"
   ]
  }
 ],
 "metadata": {
  "kernelspec": {
   "display_name": "Python 3",
   "language": "python",
   "name": "python3"
  },
  "language_info": {
   "codemirror_mode": {
    "name": "ipython",
    "version": 3
   },
   "file_extension": ".py",
   "mimetype": "text/x-python",
   "name": "python",
   "nbconvert_exporter": "python",
   "pygments_lexer": "ipython3",
   "version": "3.7.0"
  }
 },
 "nbformat": 4,
 "nbformat_minor": 2
}
